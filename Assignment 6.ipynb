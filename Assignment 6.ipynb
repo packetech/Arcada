{
 "cells": [
  {
   "cell_type": "markdown",
   "metadata": {},
   "source": [
    "# Assignment 6\n",
    "1. Use yeast dataset from UCI http://archive.ics.uci.edu/ml/machine-learning-databases/yeast/yeast.data\n",
    "2. Remove the first column and use the last column as the target\n",
    "3. Only leave CYT and VAC classes\n",
    "4. Replace [0.3, 0.5, 0.7] in feature 2 to null\n",
    "5. Replace [0.26, 0.36, 0.64] in feature 3 to null\n",
    "6. Split the data\n",
    "\n",
    "7. Impute the data (or not, it's your call)\n",
    "8. Build a outlier detection model to classify VAC from CYT, i.e. 0 from 1\n",
    "9. Build a classifer using sample augmentation techniques to flassify VAC from CYT, i.e. 0 from 1\n",
    "10. Try different methods and hyper paramters\n",
    "\n",
    "11. Report perfromance using F-1 score"
   ]
  },
  {
   "cell_type": "markdown",
   "metadata": {},
   "source": [
    "### Use yeast dataset from UCI http://archive.ics.uci.edu/ml/machine-learning-databases/yeast/yeast.data"
   ]
  },
  {
   "cell_type": "code",
   "execution_count": 1,
   "metadata": {},
   "outputs": [],
   "source": [
    "import numpy as np\n",
    "import pandas as pd\n",
    "import matplotlib.pyplot as plt\n",
    "%matplotlib inline\n",
    "\n",
    "import warnings\n",
    "warnings.filterwarnings('ignore')\n"
   ]
  },
  {
   "cell_type": "code",
   "execution_count": 2,
   "metadata": {},
   "outputs": [],
   "source": [
    "yeast_df = pd.read_csv(\"yeast.data\", delim_whitespace=True, header=None, index_col=False, names=['Seq_Name', 'mcg', 'gvh', 'alm', 'mit', 'erl', 'pox', 'vac', 'nuc', 'label'])\n"
   ]
  },
  {
   "cell_type": "code",
   "execution_count": 3,
   "metadata": {},
   "outputs": [
    {
     "data": {
      "text/html": [
       "<div>\n",
       "<style scoped>\n",
       "    .dataframe tbody tr th:only-of-type {\n",
       "        vertical-align: middle;\n",
       "    }\n",
       "\n",
       "    .dataframe tbody tr th {\n",
       "        vertical-align: top;\n",
       "    }\n",
       "\n",
       "    .dataframe thead th {\n",
       "        text-align: right;\n",
       "    }\n",
       "</style>\n",
       "<table border=\"1\" class=\"dataframe\">\n",
       "  <thead>\n",
       "    <tr style=\"text-align: right;\">\n",
       "      <th></th>\n",
       "      <th>Seq_Name</th>\n",
       "      <th>mcg</th>\n",
       "      <th>gvh</th>\n",
       "      <th>alm</th>\n",
       "      <th>mit</th>\n",
       "      <th>erl</th>\n",
       "      <th>pox</th>\n",
       "      <th>vac</th>\n",
       "      <th>nuc</th>\n",
       "      <th>label</th>\n",
       "    </tr>\n",
       "  </thead>\n",
       "  <tbody>\n",
       "    <tr>\n",
       "      <th>0</th>\n",
       "      <td>ADT1_YEAST</td>\n",
       "      <td>0.58</td>\n",
       "      <td>0.61</td>\n",
       "      <td>0.47</td>\n",
       "      <td>0.13</td>\n",
       "      <td>0.5</td>\n",
       "      <td>0.0</td>\n",
       "      <td>0.48</td>\n",
       "      <td>0.22</td>\n",
       "      <td>MIT</td>\n",
       "    </tr>\n",
       "    <tr>\n",
       "      <th>1</th>\n",
       "      <td>ADT2_YEAST</td>\n",
       "      <td>0.43</td>\n",
       "      <td>0.67</td>\n",
       "      <td>0.48</td>\n",
       "      <td>0.27</td>\n",
       "      <td>0.5</td>\n",
       "      <td>0.0</td>\n",
       "      <td>0.53</td>\n",
       "      <td>0.22</td>\n",
       "      <td>MIT</td>\n",
       "    </tr>\n",
       "    <tr>\n",
       "      <th>2</th>\n",
       "      <td>ADT3_YEAST</td>\n",
       "      <td>0.64</td>\n",
       "      <td>0.62</td>\n",
       "      <td>0.49</td>\n",
       "      <td>0.15</td>\n",
       "      <td>0.5</td>\n",
       "      <td>0.0</td>\n",
       "      <td>0.53</td>\n",
       "      <td>0.22</td>\n",
       "      <td>MIT</td>\n",
       "    </tr>\n",
       "    <tr>\n",
       "      <th>3</th>\n",
       "      <td>AAR2_YEAST</td>\n",
       "      <td>0.58</td>\n",
       "      <td>0.44</td>\n",
       "      <td>0.57</td>\n",
       "      <td>0.13</td>\n",
       "      <td>0.5</td>\n",
       "      <td>0.0</td>\n",
       "      <td>0.54</td>\n",
       "      <td>0.22</td>\n",
       "      <td>NUC</td>\n",
       "    </tr>\n",
       "    <tr>\n",
       "      <th>4</th>\n",
       "      <td>AATM_YEAST</td>\n",
       "      <td>0.42</td>\n",
       "      <td>0.44</td>\n",
       "      <td>0.48</td>\n",
       "      <td>0.54</td>\n",
       "      <td>0.5</td>\n",
       "      <td>0.0</td>\n",
       "      <td>0.48</td>\n",
       "      <td>0.22</td>\n",
       "      <td>MIT</td>\n",
       "    </tr>\n",
       "  </tbody>\n",
       "</table>\n",
       "</div>"
      ],
      "text/plain": [
       "     Seq_Name   mcg   gvh   alm   mit  erl  pox   vac   nuc label\n",
       "0  ADT1_YEAST  0.58  0.61  0.47  0.13  0.5  0.0  0.48  0.22   MIT\n",
       "1  ADT2_YEAST  0.43  0.67  0.48  0.27  0.5  0.0  0.53  0.22   MIT\n",
       "2  ADT3_YEAST  0.64  0.62  0.49  0.15  0.5  0.0  0.53  0.22   MIT\n",
       "3  AAR2_YEAST  0.58  0.44  0.57  0.13  0.5  0.0  0.54  0.22   NUC\n",
       "4  AATM_YEAST  0.42  0.44  0.48  0.54  0.5  0.0  0.48  0.22   MIT"
      ]
     },
     "execution_count": 3,
     "metadata": {},
     "output_type": "execute_result"
    }
   ],
   "source": [
    "yeast_df.head()"
   ]
  },
  {
   "cell_type": "markdown",
   "metadata": {},
   "source": [
    "### Remove the first column and use the last column as the target"
   ]
  },
  {
   "cell_type": "code",
   "execution_count": 4,
   "metadata": {},
   "outputs": [],
   "source": [
    "yeast_df = yeast_df.drop(labels=\"Seq_Name\", axis=1)"
   ]
  },
  {
   "cell_type": "code",
   "execution_count": 5,
   "metadata": {},
   "outputs": [
    {
     "name": "stdout",
     "output_type": "stream",
     "text": [
      "<class 'pandas.core.frame.DataFrame'>\n",
      "RangeIndex: 1484 entries, 0 to 1483\n",
      "Data columns (total 9 columns):\n",
      " #   Column  Non-Null Count  Dtype  \n",
      "---  ------  --------------  -----  \n",
      " 0   mcg     1484 non-null   float64\n",
      " 1   gvh     1484 non-null   float64\n",
      " 2   alm     1484 non-null   float64\n",
      " 3   mit     1484 non-null   float64\n",
      " 4   erl     1484 non-null   float64\n",
      " 5   pox     1484 non-null   float64\n",
      " 6   vac     1484 non-null   float64\n",
      " 7   nuc     1484 non-null   float64\n",
      " 8   label   1484 non-null   object \n",
      "dtypes: float64(8), object(1)\n",
      "memory usage: 104.5+ KB\n"
     ]
    }
   ],
   "source": [
    "yeast_df.info()"
   ]
  },
  {
   "cell_type": "code",
   "execution_count": 6,
   "metadata": {},
   "outputs": [
    {
     "data": {
      "text/html": [
       "<div>\n",
       "<style scoped>\n",
       "    .dataframe tbody tr th:only-of-type {\n",
       "        vertical-align: middle;\n",
       "    }\n",
       "\n",
       "    .dataframe tbody tr th {\n",
       "        vertical-align: top;\n",
       "    }\n",
       "\n",
       "    .dataframe thead th {\n",
       "        text-align: right;\n",
       "    }\n",
       "</style>\n",
       "<table border=\"1\" class=\"dataframe\">\n",
       "  <thead>\n",
       "    <tr style=\"text-align: right;\">\n",
       "      <th></th>\n",
       "      <th>count</th>\n",
       "      <th>mean</th>\n",
       "      <th>std</th>\n",
       "      <th>min</th>\n",
       "      <th>25%</th>\n",
       "      <th>50%</th>\n",
       "      <th>75%</th>\n",
       "      <th>max</th>\n",
       "    </tr>\n",
       "  </thead>\n",
       "  <tbody>\n",
       "    <tr>\n",
       "      <th>mcg</th>\n",
       "      <td>1484.0</td>\n",
       "      <td>0.500121</td>\n",
       "      <td>0.137299</td>\n",
       "      <td>0.11</td>\n",
       "      <td>0.41</td>\n",
       "      <td>0.49</td>\n",
       "      <td>0.58</td>\n",
       "      <td>1.00</td>\n",
       "    </tr>\n",
       "    <tr>\n",
       "      <th>gvh</th>\n",
       "      <td>1484.0</td>\n",
       "      <td>0.499933</td>\n",
       "      <td>0.123924</td>\n",
       "      <td>0.13</td>\n",
       "      <td>0.42</td>\n",
       "      <td>0.49</td>\n",
       "      <td>0.57</td>\n",
       "      <td>1.00</td>\n",
       "    </tr>\n",
       "    <tr>\n",
       "      <th>alm</th>\n",
       "      <td>1484.0</td>\n",
       "      <td>0.500034</td>\n",
       "      <td>0.086670</td>\n",
       "      <td>0.21</td>\n",
       "      <td>0.46</td>\n",
       "      <td>0.51</td>\n",
       "      <td>0.55</td>\n",
       "      <td>1.00</td>\n",
       "    </tr>\n",
       "    <tr>\n",
       "      <th>mit</th>\n",
       "      <td>1484.0</td>\n",
       "      <td>0.261186</td>\n",
       "      <td>0.137098</td>\n",
       "      <td>0.00</td>\n",
       "      <td>0.17</td>\n",
       "      <td>0.22</td>\n",
       "      <td>0.32</td>\n",
       "      <td>1.00</td>\n",
       "    </tr>\n",
       "    <tr>\n",
       "      <th>erl</th>\n",
       "      <td>1484.0</td>\n",
       "      <td>0.504717</td>\n",
       "      <td>0.048351</td>\n",
       "      <td>0.50</td>\n",
       "      <td>0.50</td>\n",
       "      <td>0.50</td>\n",
       "      <td>0.50</td>\n",
       "      <td>1.00</td>\n",
       "    </tr>\n",
       "    <tr>\n",
       "      <th>pox</th>\n",
       "      <td>1484.0</td>\n",
       "      <td>0.007500</td>\n",
       "      <td>0.075683</td>\n",
       "      <td>0.00</td>\n",
       "      <td>0.00</td>\n",
       "      <td>0.00</td>\n",
       "      <td>0.00</td>\n",
       "      <td>0.83</td>\n",
       "    </tr>\n",
       "    <tr>\n",
       "      <th>vac</th>\n",
       "      <td>1484.0</td>\n",
       "      <td>0.499885</td>\n",
       "      <td>0.057797</td>\n",
       "      <td>0.00</td>\n",
       "      <td>0.48</td>\n",
       "      <td>0.51</td>\n",
       "      <td>0.53</td>\n",
       "      <td>0.73</td>\n",
       "    </tr>\n",
       "    <tr>\n",
       "      <th>nuc</th>\n",
       "      <td>1484.0</td>\n",
       "      <td>0.276199</td>\n",
       "      <td>0.106491</td>\n",
       "      <td>0.00</td>\n",
       "      <td>0.22</td>\n",
       "      <td>0.22</td>\n",
       "      <td>0.30</td>\n",
       "      <td>1.00</td>\n",
       "    </tr>\n",
       "  </tbody>\n",
       "</table>\n",
       "</div>"
      ],
      "text/plain": [
       "      count      mean       std   min   25%   50%   75%   max\n",
       "mcg  1484.0  0.500121  0.137299  0.11  0.41  0.49  0.58  1.00\n",
       "gvh  1484.0  0.499933  0.123924  0.13  0.42  0.49  0.57  1.00\n",
       "alm  1484.0  0.500034  0.086670  0.21  0.46  0.51  0.55  1.00\n",
       "mit  1484.0  0.261186  0.137098  0.00  0.17  0.22  0.32  1.00\n",
       "erl  1484.0  0.504717  0.048351  0.50  0.50  0.50  0.50  1.00\n",
       "pox  1484.0  0.007500  0.075683  0.00  0.00  0.00  0.00  0.83\n",
       "vac  1484.0  0.499885  0.057797  0.00  0.48  0.51  0.53  0.73\n",
       "nuc  1484.0  0.276199  0.106491  0.00  0.22  0.22  0.30  1.00"
      ]
     },
     "execution_count": 6,
     "metadata": {},
     "output_type": "execute_result"
    }
   ],
   "source": [
    "# descriptive analysis\n",
    "\n",
    "yeast_df.describe().T "
   ]
  },
  {
   "cell_type": "markdown",
   "metadata": {},
   "source": [
    "### Only leave CYT and VAC classes "
   ]
  },
  {
   "cell_type": "code",
   "execution_count": 7,
   "metadata": {
    "run_control": {
     "marked": false
    }
   },
   "outputs": [],
   "source": [
    "# Filtering out only CYT and VAC classes in the label\n",
    "\n",
    "yeastCYT = yeast_df[yeast_df['label'] == 'CYT']\n",
    "yeastVAC = yeast_df[yeast_df['label'] == 'VAC']\n",
    "\n",
    "yeast = pd.concat([yeastCYT, yeastVAC]).reset_index(drop=True)"
   ]
  },
  {
   "cell_type": "code",
   "execution_count": 8,
   "metadata": {},
   "outputs": [
    {
     "data": {
      "text/html": [
       "<div>\n",
       "<style scoped>\n",
       "    .dataframe tbody tr th:only-of-type {\n",
       "        vertical-align: middle;\n",
       "    }\n",
       "\n",
       "    .dataframe tbody tr th {\n",
       "        vertical-align: top;\n",
       "    }\n",
       "\n",
       "    .dataframe thead th {\n",
       "        text-align: right;\n",
       "    }\n",
       "</style>\n",
       "<table border=\"1\" class=\"dataframe\">\n",
       "  <thead>\n",
       "    <tr style=\"text-align: right;\">\n",
       "      <th></th>\n",
       "      <th>mcg</th>\n",
       "      <th>gvh</th>\n",
       "      <th>alm</th>\n",
       "      <th>mit</th>\n",
       "      <th>erl</th>\n",
       "      <th>pox</th>\n",
       "      <th>vac</th>\n",
       "      <th>nuc</th>\n",
       "      <th>label</th>\n",
       "    </tr>\n",
       "  </thead>\n",
       "  <tbody>\n",
       "    <tr>\n",
       "      <th>0</th>\n",
       "      <td>0.51</td>\n",
       "      <td>0.40</td>\n",
       "      <td>0.56</td>\n",
       "      <td>0.17</td>\n",
       "      <td>0.5</td>\n",
       "      <td>0.5</td>\n",
       "      <td>0.49</td>\n",
       "      <td>0.22</td>\n",
       "      <td>CYT</td>\n",
       "    </tr>\n",
       "    <tr>\n",
       "      <th>1</th>\n",
       "      <td>0.40</td>\n",
       "      <td>0.39</td>\n",
       "      <td>0.60</td>\n",
       "      <td>0.15</td>\n",
       "      <td>0.5</td>\n",
       "      <td>0.0</td>\n",
       "      <td>0.58</td>\n",
       "      <td>0.30</td>\n",
       "      <td>CYT</td>\n",
       "    </tr>\n",
       "    <tr>\n",
       "      <th>2</th>\n",
       "      <td>0.40</td>\n",
       "      <td>0.42</td>\n",
       "      <td>0.57</td>\n",
       "      <td>0.35</td>\n",
       "      <td>0.5</td>\n",
       "      <td>0.0</td>\n",
       "      <td>0.53</td>\n",
       "      <td>0.25</td>\n",
       "      <td>CYT</td>\n",
       "    </tr>\n",
       "  </tbody>\n",
       "</table>\n",
       "</div>"
      ],
      "text/plain": [
       "    mcg   gvh   alm   mit  erl  pox   vac   nuc label\n",
       "0  0.51  0.40  0.56  0.17  0.5  0.5  0.49  0.22   CYT\n",
       "1  0.40  0.39  0.60  0.15  0.5  0.0  0.58  0.30   CYT\n",
       "2  0.40  0.42  0.57  0.35  0.5  0.0  0.53  0.25   CYT"
      ]
     },
     "execution_count": 8,
     "metadata": {},
     "output_type": "execute_result"
    }
   ],
   "source": [
    "#yeast[yeast.gvh == 0.3].count()\n",
    "\n",
    "yeast.head(3)"
   ]
  },
  {
   "cell_type": "markdown",
   "metadata": {},
   "source": [
    "### Replace [0.3, 0.5, 0.7] in feature 2 (mcg) to null or NaN"
   ]
  },
  {
   "cell_type": "code",
   "execution_count": 9,
   "metadata": {},
   "outputs": [],
   "source": [
    "# mcg is feature 2 before we dropped feature 1\n",
    "yeast['mcg'] = yeast['mcg'].replace(0.3, np.nan)\n",
    "yeast['mcg'] = yeast['mcg'].replace(0.5, np.nan)\n",
    "yeast['mcg'] = yeast['mcg'].replace(0.7, np.nan)"
   ]
  },
  {
   "cell_type": "markdown",
   "metadata": {},
   "source": [
    "### Replace [0.26, 0.36, 0.64] in feature 3 (gvh) to null or NaN"
   ]
  },
  {
   "cell_type": "code",
   "execution_count": 10,
   "metadata": {},
   "outputs": [],
   "source": [
    "# gvh is feature 3 before we dropped feature 1\n",
    "yeast['gvh'] = yeast['gvh'].replace(0.26, np.nan)\n",
    "yeast['gvh'] = yeast['gvh'].replace(0.36, np.nan)\n",
    "yeast['gvh'] = yeast['gvh'].replace(0.64, np.nan)"
   ]
  },
  {
   "cell_type": "markdown",
   "metadata": {},
   "source": [
    "### Split the data"
   ]
  },
  {
   "cell_type": "code",
   "execution_count": 11,
   "metadata": {},
   "outputs": [],
   "source": [
    "from sklearn.impute import SimpleImputer\n",
    "from sklearn.model_selection import train_test_split\n",
    "\n",
    "# Lets also make our label column binary\n",
    "targetReplace = {\"label\": {\"CYT\": 0, \"VAC\": 1}}\n",
    "yeast.replace(targetReplace, inplace=True)\n",
    "\n",
    "\n",
    "\n",
    "# we will have error during training if we do not impute data by eliminating the NaNs\n",
    "# Imputing data\n",
    "imp = SimpleImputer(missing_values=np.nan, strategy='mean')\n",
    "iyeast=pd.DataFrame(imp.fit_transform(yeast))\n",
    "\n",
    "\n",
    "# Lets now split data\n",
    "X = iyeast.drop(iyeast.iloc[:, [8]], axis=1)\n",
    "y = iyeast.iloc[:, [8]]\n",
    "\n",
    "\n",
    "# split\n",
    "X_train, X_test, y_train, y_test = train_test_split(X, y, test_size=0.3, shuffle=True, random_state=42)\n",
    "\n",
    "\n",
    "# Scale data \n",
    "from sklearn.preprocessing import StandardScaler    \n",
    "scaler = StandardScaler()\n",
    "scaler.fit(X_train)\n",
    "    \n",
    "X_train = scaler.transform(X_train)                        \n",
    "X_test = scaler.transform(X_test)\n"
   ]
  },
  {
   "cell_type": "markdown",
   "metadata": {},
   "source": [
    "### Build a outlier detection model to classify VAC from CYT, i.e. 0 from 1"
   ]
  },
  {
   "cell_type": "code",
   "execution_count": 12,
   "metadata": {},
   "outputs": [
    {
     "name": "stdout",
     "output_type": "stream",
     "text": [
      "shapes with outliers\n",
      "(345, 8) (345, 1)\n",
      "\n",
      "shapes without outliers\n",
      "(327, 8) (327, 1)\n",
      "\n",
      "18 Outliers have been removed\n",
      " \n",
      "The f1_score of the none urgmented data is: \n"
     ]
    },
    {
     "data": {
      "text/plain": [
       "0.375"
      ]
     },
     "execution_count": 12,
     "metadata": {},
     "output_type": "execute_result"
    }
   ],
   "source": [
    "from sklearn.ensemble import IsolationForest\n",
    "\n",
    "# identify outliers in the training dataset\n",
    "iso = IsolationForest(n_estimators=100, contamination=.05) #n_estimators=100, contamination=.05\n",
    "yhat = iso.fit_predict(X_train)\n",
    "\n",
    "# select all rows that are not outliers\n",
    "mask = yhat != -1\n",
    "X_trainO, y_trainO = X_train[mask,:], y_train[mask]\n",
    "\n",
    "# summarize the shape of the updated training dataset\n",
    "print('shapes with outliers')\n",
    "print(X_train.shape, y_train.shape)\n",
    "print('')\n",
    "print('shapes without outliers')\n",
    "print(X_trainO.shape, y_trainO.shape)\n",
    "print('')\n",
    "print (str(X_train.shape[0]-X_trainO.shape[0]) + \" Outliers have been removed\")\n",
    "print(\" \")\n",
    "\n",
    "# Training a model to predit\n",
    "from sklearn.linear_model import LogisticRegression\n",
    "from sklearn.metrics import f1_score\n",
    "\n",
    "model = LogisticRegression(random_state=0)\n",
    "model.fit(X_trainO, y_trainO)\n",
    "\n",
    "# evaluate the model\n",
    "yhat = model.predict(X_test)\n",
    "\n",
    "#calculate F1 score\n",
    "print(\"The f1_score of the none urgmented data is: \")\n",
    "f1_score(y_test, yhat)\n"
   ]
  },
  {
   "cell_type": "markdown",
   "metadata": {},
   "source": [
    "### - Build a classifer using sample augmentation techniques to flassify VAC from CYT, i.e. 0 from 1"
   ]
  },
  {
   "cell_type": "code",
   "execution_count": 13,
   "metadata": {},
   "outputs": [
    {
     "name": "stdout",
     "output_type": "stream",
     "text": [
      "CYT    463\n",
      "Name: label, dtype: int64\n",
      "\n",
      "VAC    30\n",
      "Name: label, dtype: int64\n"
     ]
    }
   ],
   "source": [
    "# The data was so imbalance\n",
    "# See it:\n",
    "print(yeastCYT.label.value_counts())\n",
    "print(\"\")\n",
    "print(yeastVAC.label.value_counts())"
   ]
  },
  {
   "cell_type": "code",
   "execution_count": 17,
   "metadata": {},
   "outputs": [
    {
     "name": "stdout",
     "output_type": "stream",
     "text": [
      "CYT    463\n",
      "VAC    463\n",
      "Name: label, dtype: int64\n"
     ]
    }
   ],
   "source": [
    "# The data above is grossly imbalance\n",
    "# Lets upsample the VAC class, it is the minority. \n",
    "from sklearn.utils import resample\n",
    "\n",
    "yeastVAC_upsampled = resample(yeastVAC, \n",
    "                                 replace=True,     # sample with replacement\n",
    "                                 n_samples=463,    # to match majority class ( CYT )\n",
    "                                 random_state=123) # reproducible results\n",
    "\n",
    "\n",
    "# Combine majority class with upsampled minority class\n",
    "yeast_resampled = pd.concat([yeastCYT, yeastVAC_upsampled]).reset_index(drop=True)\n",
    "\n",
    "print(yeast_resampled.label.value_counts()) "
   ]
  },
  {
   "cell_type": "code",
   "execution_count": 18,
   "metadata": {},
   "outputs": [],
   "source": [
    "# introducing the noise or NaN again\n",
    "\n",
    "# introduce NaN\n",
    "# mcg is feature 2 before we dropped feature 1\n",
    "yeast_resampled['mcg'] = yeast_resampled['mcg'].replace(0.3, np.nan)\n",
    "yeast_resampled['mcg'] = yeast_resampled['mcg'].replace(0.5, np.nan)\n",
    "yeast_resampled['mcg'] = yeast_resampled['mcg'].replace(0.7, np.nan)\n",
    "\n",
    "\n",
    "# gvh is feature 3 before we dropped feature 1\n",
    "yeast_resampled['gvh'] = yeast_resampled['gvh'].replace(0.26, np.nan)\n",
    "yeast_resampled['gvh'] = yeast_resampled['gvh'].replace(0.36, np.nan)\n",
    "yeast_resampled['gvh'] = yeast_resampled['gvh'].replace(0.64, np.nan)\n",
    "\n",
    "\n",
    "\n",
    "##### --------------- Process, imput and plit data -----------############\n",
    "\n",
    "# Lets also make our label column binary\n",
    "targetReplace = {\"label\": {\"CYT\": 0, \"VAC\": 1}}\n",
    "yeast_resampled.replace(targetReplace, inplace=True)\n",
    "\n",
    "\n",
    "\n",
    "# we will have error during training if we do not impute data by eliminating the NaNs\n",
    "# Imputing data\n",
    "imp = SimpleImputer(missing_values=np.nan, strategy='mean')\n",
    "iyeast=pd.DataFrame(imp.fit_transform(yeast_resampled))\n",
    "\n",
    "\n",
    "# Lets now split data\n",
    "X = iyeast.drop(iyeast.iloc[:, [8]], axis=1)\n",
    "y = iyeast.iloc[:, [8]]\n",
    "\n",
    "\n",
    "# split\n",
    "X_train, X_test, y_train, y_test = train_test_split(X, y, test_size=0.3, shuffle=True, random_state=42)\n",
    "\n",
    "\n",
    "# Scale data    \n",
    "scaler = StandardScaler()\n",
    "scaler.fit(X_train)\n",
    "    \n",
    "X_train = scaler.transform(X_train)                        \n",
    "X_test = scaler.transform(X_test)\n"
   ]
  },
  {
   "cell_type": "code",
   "execution_count": 19,
   "metadata": {},
   "outputs": [
    {
     "name": "stdout",
     "output_type": "stream",
     "text": [
      "shapes with outliers\n",
      "(648, 8) (648, 1)\n",
      "\n",
      "shapes without outliers\n",
      "(615, 8) (615, 1)\n",
      "\n",
      "33 Outliers have been removed\n",
      " \n",
      "The f1_score of the urgmented data is: \n"
     ]
    },
    {
     "data": {
      "text/plain": [
       "0.7676056338028169"
      ]
     },
     "execution_count": 19,
     "metadata": {},
     "output_type": "execute_result"
    }
   ],
   "source": [
    "# identify outliers in the training dataset\n",
    "iso = IsolationForest(n_estimators=100, contamination=.05) #n_estimators=100, contamination=.05\n",
    "yhat = iso.fit_predict(X_train)\n",
    "\n",
    "# select all rows that are not outliers\n",
    "mask = yhat != -1\n",
    "X_trainO, y_trainO = X_train[mask,:], y_train[mask]\n",
    "\n",
    "# summarize the shape of the updated training dataset\n",
    "print('shapes with outliers')\n",
    "print(X_train.shape, y_train.shape)\n",
    "print('')\n",
    "print('shapes without outliers')\n",
    "print(X_trainO.shape, y_trainO.shape)\n",
    "print('')\n",
    "print (str(X_train.shape[0]-X_trainO.shape[0]) + \" Outliers have been removed\")\n",
    "print(\" \")\n",
    "\n",
    "# Training a model to predit\n",
    "model = LogisticRegression(random_state=0)\n",
    "model.fit(X_trainO, y_trainO)\n",
    "\n",
    "# evaluate the model\n",
    "yhat = model.predict(X_test)\n",
    "\n",
    "#calculate F1 score\n",
    "print(\"The f1_score of the urgmented data is: \")\n",
    "f1_score(y_test, yhat)\n"
   ]
  },
  {
   "cell_type": "markdown",
   "metadata": {},
   "source": [
    "### - Try different methods and hyper paramters and Report perfromance using F-1 score again"
   ]
  },
  {
   "cell_type": "markdown",
   "metadata": {},
   "source": [
    "Starting from the resampled and target column converted data\n",
    "we will use a different method of imputing called KNNImputer\n"
   ]
  },
  {
   "cell_type": "code",
   "execution_count": 20,
   "metadata": {},
   "outputs": [],
   "source": [
    "from sklearn.impute import KNNImputer\n",
    "\n",
    "imp = KNNImputer(n_neighbors=2, weights=\"uniform\")\n",
    "iyeast=pd.DataFrame(imp.fit_transform(yeast_resampled))\n",
    "\n",
    "\n",
    "# Lets now split data\n",
    "X = iyeast.drop(iyeast.iloc[:, [8]], axis=1)\n",
    "y = iyeast.iloc[:, [8]]\n",
    "\n",
    "\n",
    "# split\n",
    "X_train, X_test, y_train, y_test = train_test_split(X, y, test_size=0.3, shuffle=True, random_state=42)\n",
    "\n",
    "\n",
    "# Scale data    \n",
    "scaler = StandardScaler()\n",
    "scaler.fit(X_train)\n",
    "    \n",
    "X_train = scaler.transform(X_train)                        \n",
    "X_test = scaler.transform(X_test)\n"
   ]
  },
  {
   "cell_type": "code",
   "execution_count": 21,
   "metadata": {},
   "outputs": [
    {
     "name": "stdout",
     "output_type": "stream",
     "text": [
      "shapes with outliers\n",
      "(648, 8) (648, 1)\n",
      "\n",
      "shapes without outliers\n",
      "(615, 8) (615, 1)\n",
      "\n",
      "33 Outliers have been removed\n",
      " \n"
     ]
    }
   ],
   "source": [
    "# identify outliers in the training dataset\n",
    "iso = IsolationForest(n_estimators=100, contamination=.05) #n_estimators=100, contamination=.05\n",
    "yhat = iso.fit_predict(X_train)\n",
    "\n",
    "# select all rows that are not outliers\n",
    "mask = yhat != -1\n",
    "X_trainO, y_trainO = X_train[mask,:], y_train[mask]\n",
    "\n",
    "# summarize the shape of the updated training dataset\n",
    "print('shapes with outliers')\n",
    "print(X_train.shape, y_train.shape)\n",
    "print('')\n",
    "print('shapes without outliers')\n",
    "print(X_trainO.shape, y_trainO.shape)\n",
    "print('')\n",
    "print (str(X_train.shape[0]-X_trainO.shape[0]) + \" Outliers have been removed\")\n",
    "print(\" \")\n"
   ]
  },
  {
   "cell_type": "code",
   "execution_count": 22,
   "metadata": {},
   "outputs": [
    {
     "name": "stdout",
     "output_type": "stream",
     "text": [
      "The f1_score of the urgmented and hyper-parameter tuned data is: \n"
     ]
    },
    {
     "data": {
      "text/plain": [
       "0.7758007117437722"
      ]
     },
     "execution_count": 22,
     "metadata": {},
     "output_type": "execute_result"
    }
   ],
   "source": [
    "\n",
    "\n",
    "##############################\n",
    "##############################\n",
    "\n",
    "# Training and optimizing model hyper-parameters a model to predit\n",
    "from sklearn.pipeline import Pipeline\n",
    "from sklearn.model_selection import GridSearchCV\n",
    "\n",
    "\n",
    "\n",
    "tuned_parameters = {'C': [0.1, 0.5, 1, 5, 10, 50, 100], 'penalty': ['l1', 'l2']}\n",
    "clf = GridSearchCV(LogisticRegression(solver='liblinear',n_jobs=-1,random_state=0), tuned_parameters, cv=3, scoring=\"accuracy\")\n",
    "clf.fit(X_trainO, y_trainO)\n",
    "\n",
    "\n",
    "# evaluate the model\n",
    "yhat = clf.predict(X_test)\n",
    "\n",
    "#calculate F1 score\n",
    "print(\"The f1_score of the urgmented and hyper-parameter tuned data is: \")\n",
    "f1_score(y_test, yhat)\n"
   ]
  },
  {
   "cell_type": "markdown",
   "metadata": {},
   "source": [
    "### OBSERVATION\n",
    "\n",
    "1. Without data urgmentation even though outliers were taken care of the f1_score was very poor at 37.5%\n",
    "2. But after urgmentation the f1_score of the tuned model is slight better at 77.6% than that of the untuned at 76.8%"
   ]
  },
  {
   "cell_type": "code",
   "execution_count": null,
   "metadata": {},
   "outputs": [],
   "source": []
  }
 ],
 "metadata": {
  "kernelspec": {
   "display_name": "Python 3",
   "language": "python",
   "name": "python3"
  },
  "language_info": {
   "codemirror_mode": {
    "name": "ipython",
    "version": 3
   },
   "file_extension": ".py",
   "mimetype": "text/x-python",
   "name": "python",
   "nbconvert_exporter": "python",
   "pygments_lexer": "ipython3",
   "version": "3.7.6"
  }
 },
 "nbformat": 4,
 "nbformat_minor": 4
}
