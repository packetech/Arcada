{
  "cells": [
    {
      "cell_type": "markdown",
      "metadata": {
        "id": "view-in-github",
        "colab_type": "text"
      },
      "source": [
        "<a href=\"https://colab.research.google.com/github/packetech/Arcada/blob/main/sentiment_analysis_arcada_v14_ndifreke_okorie.ipynb\" target=\"_parent\"><img src=\"https://colab.research.google.com/assets/colab-badge.svg\" alt=\"Open In Colab\"/></a>"
      ]
    },
    {
      "cell_type": "markdown",
      "metadata": {
        "id": "SqwczwmRkb0B"
      },
      "source": [
        "# TASK1\n",
        "\n",
        "### Chosen Topic and models: Sentiment Analysis \n",
        "Using LSTM and Bi-directional LSTM Models"
      ]
    },
    {
      "cell_type": "markdown",
      "metadata": {
        "id": "uHggVuPd1AcN"
      },
      "source": [
        "# TASK2 \n",
        "\n",
        "### Implementing the model"
      ]
    },
    {
      "cell_type": "markdown",
      "metadata": {
        "id": "wVw4hyFzjlRj"
      },
      "source": [
        "#  Introduction\n",
        "\n",
        "Dataset: \n",
        "IMDB dataset having 50K movie reviews for natural language processing or Text analytics. This is a dataset for binary sentiment classification. We are going to build and train RNN models to analyze and predict sentiments either as positive or negative given users reviews.\n",
        "\n",
        "Since it's a large dataset, we are going to use only 3000 samples to traing our model, to be able to iterate severally to tune our model faster\n",
        "\n",
        "\n"
      ]
    },
    {
      "cell_type": "markdown",
      "metadata": {
        "id": "8lJV498M6U3P"
      },
      "source": [
        "#### Installing some modules "
      ]
    },
    {
      "cell_type": "code",
      "execution_count": 1,
      "metadata": {
        "execution": {
          "iopub.execute_input": "2022-02-01T01:16:12.487111Z",
          "iopub.status.busy": "2022-02-01T01:16:12.486562Z",
          "iopub.status.idle": "2022-02-01T01:16:12.490429Z",
          "shell.execute_reply": "2022-02-01T01:16:12.489691Z",
          "shell.execute_reply.started": "2022-02-01T01:16:12.487072Z"
        },
        "id": "VGyCN8WD6ZQN"
      },
      "outputs": [],
      "source": [
        "# Install Tensorflow version greater than 2.0\n",
        "\n",
        "#!pip uninstall tensorflow\n",
        "#!pip install tensorflow==2.7.0"
      ]
    },
    {
      "cell_type": "code",
      "execution_count": 2,
      "metadata": {
        "execution": {
          "iopub.execute_input": "2022-02-11T14:53:35.721247Z",
          "iopub.status.busy": "2022-02-11T14:53:35.721007Z",
          "iopub.status.idle": "2022-02-11T14:53:35.733342Z",
          "shell.execute_reply": "2022-02-11T14:53:35.732637Z",
          "shell.execute_reply.started": "2022-02-11T14:53:35.721212Z"
        },
        "id": "Nu9mY-S-kb0K"
      },
      "outputs": [],
      "source": [
        "# Load libraries\n",
        "\n",
        "import pandas as pd \n",
        "import numpy as np\n",
        "from tensorflow.keras.preprocessing.text import Tokenizer\n",
        "from tensorflow.keras.preprocessing.sequence import pad_sequences\n",
        "from tensorflow.keras.layers import Dense, Input, LSTM, Embedding, Dropout, Activation, Flatten, Bidirectional, GlobalMaxPool1D\n",
        "from tensorflow.keras.models import Model, Sequential\n",
        "import tensorflow as tf\n",
        "from tensorflow.keras.callbacks import ModelCheckpoint, EarlyStopping\n",
        "from tensorflow.keras.utils import to_categorical\n",
        "from sklearn.model_selection import train_test_split\n",
        "import gc # python garbage collector\n",
        "import timeit\n",
        "import warnings\n",
        "warnings.filterwarnings(\"ignore\")\n",
        "import io"
      ]
    },
    {
      "cell_type": "code",
      "execution_count": 3,
      "metadata": {
        "execution": {
          "iopub.execute_input": "2022-02-11T14:53:35.735151Z",
          "iopub.status.busy": "2022-02-11T14:53:35.734613Z",
          "iopub.status.idle": "2022-02-11T14:53:35.749333Z",
          "shell.execute_reply": "2022-02-11T14:53:35.748652Z",
          "shell.execute_reply.started": "2022-02-11T14:53:35.735112Z"
        },
        "colab": {
          "base_uri": "https://localhost:8080/"
        },
        "id": "0EfJS-RxjlRm",
        "outputId": "077b2a1c-4b27-491a-d11c-921841bcc4b1"
      },
      "outputs": [
        {
          "output_type": "stream",
          "name": "stdout",
          "text": [
            "2.7.0\n"
          ]
        }
      ],
      "source": [
        "print(tf.__version__)"
      ]
    },
    {
      "cell_type": "markdown",
      "metadata": {
        "id": "6XB6JQeojlRn"
      },
      "source": [
        "# [2] EDA"
      ]
    },
    {
      "cell_type": "code",
      "execution_count": 4,
      "metadata": {
        "execution": {
          "iopub.execute_input": "2022-02-11T14:53:41.649372Z",
          "iopub.status.busy": "2022-02-11T14:53:41.648773Z",
          "iopub.status.idle": "2022-02-11T14:53:47.646547Z",
          "shell.execute_reply": "2022-02-11T14:53:47.645782Z",
          "shell.execute_reply.started": "2022-02-11T14:53:41.649332Z"
        },
        "id": "fvpZPr-Kkb0L",
        "outputId": "e358ed0c-d8a9-4a29-bc33-c11e3ce9f462",
        "colab": {
          "base_uri": "https://localhost:8080/",
          "height": 206
        }
      },
      "outputs": [
        {
          "output_type": "execute_result",
          "data": {
            "text/html": [
              "\n",
              "  <div id=\"df-9defc7b5-80a3-4806-94da-f92aa1856b9f\">\n",
              "    <div class=\"colab-df-container\">\n",
              "      <div>\n",
              "<style scoped>\n",
              "    .dataframe tbody tr th:only-of-type {\n",
              "        vertical-align: middle;\n",
              "    }\n",
              "\n",
              "    .dataframe tbody tr th {\n",
              "        vertical-align: top;\n",
              "    }\n",
              "\n",
              "    .dataframe thead th {\n",
              "        text-align: right;\n",
              "    }\n",
              "</style>\n",
              "<table border=\"1\" class=\"dataframe\">\n",
              "  <thead>\n",
              "    <tr style=\"text-align: right;\">\n",
              "      <th></th>\n",
              "      <th>review</th>\n",
              "      <th>sentiment</th>\n",
              "    </tr>\n",
              "  </thead>\n",
              "  <tbody>\n",
              "    <tr>\n",
              "      <th>0</th>\n",
              "      <td>One of the other reviewers has mentioned that ...</td>\n",
              "      <td>positive</td>\n",
              "    </tr>\n",
              "    <tr>\n",
              "      <th>1</th>\n",
              "      <td>A wonderful little production. &lt;br /&gt;&lt;br /&gt;The...</td>\n",
              "      <td>positive</td>\n",
              "    </tr>\n",
              "    <tr>\n",
              "      <th>2</th>\n",
              "      <td>I thought this was a wonderful way to spend ti...</td>\n",
              "      <td>positive</td>\n",
              "    </tr>\n",
              "    <tr>\n",
              "      <th>3</th>\n",
              "      <td>Basically there's a family where a little boy ...</td>\n",
              "      <td>negative</td>\n",
              "    </tr>\n",
              "    <tr>\n",
              "      <th>4</th>\n",
              "      <td>Petter Mattei's \"Love in the Time of Money\" is...</td>\n",
              "      <td>positive</td>\n",
              "    </tr>\n",
              "  </tbody>\n",
              "</table>\n",
              "</div>\n",
              "      <button class=\"colab-df-convert\" onclick=\"convertToInteractive('df-9defc7b5-80a3-4806-94da-f92aa1856b9f')\"\n",
              "              title=\"Convert this dataframe to an interactive table.\"\n",
              "              style=\"display:none;\">\n",
              "        \n",
              "  <svg xmlns=\"http://www.w3.org/2000/svg\" height=\"24px\"viewBox=\"0 0 24 24\"\n",
              "       width=\"24px\">\n",
              "    <path d=\"M0 0h24v24H0V0z\" fill=\"none\"/>\n",
              "    <path d=\"M18.56 5.44l.94 2.06.94-2.06 2.06-.94-2.06-.94-.94-2.06-.94 2.06-2.06.94zm-11 1L8.5 8.5l.94-2.06 2.06-.94-2.06-.94L8.5 2.5l-.94 2.06-2.06.94zm10 10l.94 2.06.94-2.06 2.06-.94-2.06-.94-.94-2.06-.94 2.06-2.06.94z\"/><path d=\"M17.41 7.96l-1.37-1.37c-.4-.4-.92-.59-1.43-.59-.52 0-1.04.2-1.43.59L10.3 9.45l-7.72 7.72c-.78.78-.78 2.05 0 2.83L4 21.41c.39.39.9.59 1.41.59.51 0 1.02-.2 1.41-.59l7.78-7.78 2.81-2.81c.8-.78.8-2.07 0-2.86zM5.41 20L4 18.59l7.72-7.72 1.47 1.35L5.41 20z\"/>\n",
              "  </svg>\n",
              "      </button>\n",
              "      \n",
              "  <style>\n",
              "    .colab-df-container {\n",
              "      display:flex;\n",
              "      flex-wrap:wrap;\n",
              "      gap: 12px;\n",
              "    }\n",
              "\n",
              "    .colab-df-convert {\n",
              "      background-color: #E8F0FE;\n",
              "      border: none;\n",
              "      border-radius: 50%;\n",
              "      cursor: pointer;\n",
              "      display: none;\n",
              "      fill: #1967D2;\n",
              "      height: 32px;\n",
              "      padding: 0 0 0 0;\n",
              "      width: 32px;\n",
              "    }\n",
              "\n",
              "    .colab-df-convert:hover {\n",
              "      background-color: #E2EBFA;\n",
              "      box-shadow: 0px 1px 2px rgba(60, 64, 67, 0.3), 0px 1px 3px 1px rgba(60, 64, 67, 0.15);\n",
              "      fill: #174EA6;\n",
              "    }\n",
              "\n",
              "    [theme=dark] .colab-df-convert {\n",
              "      background-color: #3B4455;\n",
              "      fill: #D2E3FC;\n",
              "    }\n",
              "\n",
              "    [theme=dark] .colab-df-convert:hover {\n",
              "      background-color: #434B5C;\n",
              "      box-shadow: 0px 1px 3px 1px rgba(0, 0, 0, 0.15);\n",
              "      filter: drop-shadow(0px 1px 2px rgba(0, 0, 0, 0.3));\n",
              "      fill: #FFFFFF;\n",
              "    }\n",
              "  </style>\n",
              "\n",
              "      <script>\n",
              "        const buttonEl =\n",
              "          document.querySelector('#df-9defc7b5-80a3-4806-94da-f92aa1856b9f button.colab-df-convert');\n",
              "        buttonEl.style.display =\n",
              "          google.colab.kernel.accessAllowed ? 'block' : 'none';\n",
              "\n",
              "        async function convertToInteractive(key) {\n",
              "          const element = document.querySelector('#df-9defc7b5-80a3-4806-94da-f92aa1856b9f');\n",
              "          const dataTable =\n",
              "            await google.colab.kernel.invokeFunction('convertToInteractive',\n",
              "                                                     [key], {});\n",
              "          if (!dataTable) return;\n",
              "\n",
              "          const docLinkHtml = 'Like what you see? Visit the ' +\n",
              "            '<a target=\"_blank\" href=https://colab.research.google.com/notebooks/data_table.ipynb>data table notebook</a>'\n",
              "            + ' to learn more about interactive tables.';\n",
              "          element.innerHTML = '';\n",
              "          dataTable['output_type'] = 'display_data';\n",
              "          await google.colab.output.renderOutput(dataTable, element);\n",
              "          const docLink = document.createElement('div');\n",
              "          docLink.innerHTML = docLinkHtml;\n",
              "          element.appendChild(docLink);\n",
              "        }\n",
              "      </script>\n",
              "    </div>\n",
              "  </div>\n",
              "  "
            ],
            "text/plain": [
              "                                              review sentiment\n",
              "0  One of the other reviewers has mentioned that ...  positive\n",
              "1  A wonderful little production. <br /><br />The...  positive\n",
              "2  I thought this was a wonderful way to spend ti...  positive\n",
              "3  Basically there's a family where a little boy ...  negative\n",
              "4  Petter Mattei's \"Love in the Time of Money\" is...  positive"
            ]
          },
          "metadata": {},
          "execution_count": 4
        }
      ],
      "source": [
        "\n",
        "sentimentDF = pd.read_csv('https://raw.githubusercontent.com/apomohab/imdb_dataset_csv/main/IMDB_Dataset.csv', delimiter=',')\n",
        "sentimentDF.head()"
      ]
    },
    {
      "cell_type": "code",
      "execution_count": 5,
      "metadata": {
        "execution": {
          "iopub.execute_input": "2022-02-11T14:53:47.648348Z",
          "iopub.status.busy": "2022-02-11T14:53:47.648145Z",
          "iopub.status.idle": "2022-02-11T14:53:47.664796Z",
          "shell.execute_reply": "2022-02-11T14:53:47.664035Z",
          "shell.execute_reply.started": "2022-02-11T14:53:47.648324Z"
        },
        "id": "WNavndtzkb0N",
        "outputId": "92067e64-10fd-47ff-fbe9-a5c6d946e1bc",
        "colab": {
          "base_uri": "https://localhost:8080/"
        }
      },
      "outputs": [
        {
          "output_type": "stream",
          "name": "stdout",
          "text": [
            "review       False\n",
            "sentiment    False\n",
            "dtype: bool\n"
          ]
        }
      ],
      "source": [
        "# check for null values in the dataset (we have no null value !!!)\n",
        "print(sentimentDF.isnull().any(axis = 0))"
      ]
    },
    {
      "cell_type": "code",
      "execution_count": 6,
      "metadata": {
        "execution": {
          "iopub.execute_input": "2022-02-11T14:53:47.667069Z",
          "iopub.status.busy": "2022-02-11T14:53:47.666589Z",
          "iopub.status.idle": "2022-02-11T14:53:47.672279Z",
          "shell.execute_reply": "2022-02-11T14:53:47.671470Z",
          "shell.execute_reply.started": "2022-02-11T14:53:47.667033Z"
        },
        "id": "b17reuLOkb0O",
        "outputId": "ed0be3f4-93ee-47a5-f8bd-ad5822c10387",
        "colab": {
          "base_uri": "https://localhost:8080/"
        }
      },
      "outputs": [
        {
          "output_type": "execute_result",
          "data": {
            "text/plain": [
              "(50000, 2)"
            ]
          },
          "metadata": {},
          "execution_count": 6
        }
      ],
      "source": [
        "# lets see our dataframe shape\n",
        "sentimentDF.shape"
      ]
    },
    {
      "cell_type": "code",
      "execution_count": 7,
      "metadata": {
        "execution": {
          "iopub.execute_input": "2022-02-11T14:53:49.466612Z",
          "iopub.status.busy": "2022-02-11T14:53:49.466111Z",
          "iopub.status.idle": "2022-02-11T14:53:49.511970Z",
          "shell.execute_reply": "2022-02-11T14:53:49.511314Z",
          "shell.execute_reply.started": "2022-02-11T14:53:49.466572Z"
        },
        "id": "giLCWMiCkb0O",
        "outputId": "a94e831f-179c-4e51-cff9-0c5dcabd4b3a",
        "colab": {
          "base_uri": "https://localhost:8080/",
          "height": 206
        }
      },
      "outputs": [
        {
          "output_type": "execute_result",
          "data": {
            "text/html": [
              "\n",
              "  <div id=\"df-37d1a2b0-b8f5-4938-ad41-daedc21eaf9a\">\n",
              "    <div class=\"colab-df-container\">\n",
              "      <div>\n",
              "<style scoped>\n",
              "    .dataframe tbody tr th:only-of-type {\n",
              "        vertical-align: middle;\n",
              "    }\n",
              "\n",
              "    .dataframe tbody tr th {\n",
              "        vertical-align: top;\n",
              "    }\n",
              "\n",
              "    .dataframe thead th {\n",
              "        text-align: right;\n",
              "    }\n",
              "</style>\n",
              "<table border=\"1\" class=\"dataframe\">\n",
              "  <thead>\n",
              "    <tr style=\"text-align: right;\">\n",
              "      <th></th>\n",
              "      <th>review</th>\n",
              "      <th>sentiment</th>\n",
              "    </tr>\n",
              "  </thead>\n",
              "  <tbody>\n",
              "    <tr>\n",
              "      <th>0</th>\n",
              "      <td>One of the other reviewers has mentioned that ...</td>\n",
              "      <td>1</td>\n",
              "    </tr>\n",
              "    <tr>\n",
              "      <th>1</th>\n",
              "      <td>A wonderful little production. &lt;br /&gt;&lt;br /&gt;The...</td>\n",
              "      <td>1</td>\n",
              "    </tr>\n",
              "    <tr>\n",
              "      <th>2</th>\n",
              "      <td>I thought this was a wonderful way to spend ti...</td>\n",
              "      <td>1</td>\n",
              "    </tr>\n",
              "    <tr>\n",
              "      <th>3</th>\n",
              "      <td>Basically there's a family where a little boy ...</td>\n",
              "      <td>0</td>\n",
              "    </tr>\n",
              "    <tr>\n",
              "      <th>4</th>\n",
              "      <td>Petter Mattei's \"Love in the Time of Money\" is...</td>\n",
              "      <td>1</td>\n",
              "    </tr>\n",
              "  </tbody>\n",
              "</table>\n",
              "</div>\n",
              "      <button class=\"colab-df-convert\" onclick=\"convertToInteractive('df-37d1a2b0-b8f5-4938-ad41-daedc21eaf9a')\"\n",
              "              title=\"Convert this dataframe to an interactive table.\"\n",
              "              style=\"display:none;\">\n",
              "        \n",
              "  <svg xmlns=\"http://www.w3.org/2000/svg\" height=\"24px\"viewBox=\"0 0 24 24\"\n",
              "       width=\"24px\">\n",
              "    <path d=\"M0 0h24v24H0V0z\" fill=\"none\"/>\n",
              "    <path d=\"M18.56 5.44l.94 2.06.94-2.06 2.06-.94-2.06-.94-.94-2.06-.94 2.06-2.06.94zm-11 1L8.5 8.5l.94-2.06 2.06-.94-2.06-.94L8.5 2.5l-.94 2.06-2.06.94zm10 10l.94 2.06.94-2.06 2.06-.94-2.06-.94-.94-2.06-.94 2.06-2.06.94z\"/><path d=\"M17.41 7.96l-1.37-1.37c-.4-.4-.92-.59-1.43-.59-.52 0-1.04.2-1.43.59L10.3 9.45l-7.72 7.72c-.78.78-.78 2.05 0 2.83L4 21.41c.39.39.9.59 1.41.59.51 0 1.02-.2 1.41-.59l7.78-7.78 2.81-2.81c.8-.78.8-2.07 0-2.86zM5.41 20L4 18.59l7.72-7.72 1.47 1.35L5.41 20z\"/>\n",
              "  </svg>\n",
              "      </button>\n",
              "      \n",
              "  <style>\n",
              "    .colab-df-container {\n",
              "      display:flex;\n",
              "      flex-wrap:wrap;\n",
              "      gap: 12px;\n",
              "    }\n",
              "\n",
              "    .colab-df-convert {\n",
              "      background-color: #E8F0FE;\n",
              "      border: none;\n",
              "      border-radius: 50%;\n",
              "      cursor: pointer;\n",
              "      display: none;\n",
              "      fill: #1967D2;\n",
              "      height: 32px;\n",
              "      padding: 0 0 0 0;\n",
              "      width: 32px;\n",
              "    }\n",
              "\n",
              "    .colab-df-convert:hover {\n",
              "      background-color: #E2EBFA;\n",
              "      box-shadow: 0px 1px 2px rgba(60, 64, 67, 0.3), 0px 1px 3px 1px rgba(60, 64, 67, 0.15);\n",
              "      fill: #174EA6;\n",
              "    }\n",
              "\n",
              "    [theme=dark] .colab-df-convert {\n",
              "      background-color: #3B4455;\n",
              "      fill: #D2E3FC;\n",
              "    }\n",
              "\n",
              "    [theme=dark] .colab-df-convert:hover {\n",
              "      background-color: #434B5C;\n",
              "      box-shadow: 0px 1px 3px 1px rgba(0, 0, 0, 0.15);\n",
              "      filter: drop-shadow(0px 1px 2px rgba(0, 0, 0, 0.3));\n",
              "      fill: #FFFFFF;\n",
              "    }\n",
              "  </style>\n",
              "\n",
              "      <script>\n",
              "        const buttonEl =\n",
              "          document.querySelector('#df-37d1a2b0-b8f5-4938-ad41-daedc21eaf9a button.colab-df-convert');\n",
              "        buttonEl.style.display =\n",
              "          google.colab.kernel.accessAllowed ? 'block' : 'none';\n",
              "\n",
              "        async function convertToInteractive(key) {\n",
              "          const element = document.querySelector('#df-37d1a2b0-b8f5-4938-ad41-daedc21eaf9a');\n",
              "          const dataTable =\n",
              "            await google.colab.kernel.invokeFunction('convertToInteractive',\n",
              "                                                     [key], {});\n",
              "          if (!dataTable) return;\n",
              "\n",
              "          const docLinkHtml = 'Like what you see? Visit the ' +\n",
              "            '<a target=\"_blank\" href=https://colab.research.google.com/notebooks/data_table.ipynb>data table notebook</a>'\n",
              "            + ' to learn more about interactive tables.';\n",
              "          element.innerHTML = '';\n",
              "          dataTable['output_type'] = 'display_data';\n",
              "          await google.colab.output.renderOutput(dataTable, element);\n",
              "          const docLink = document.createElement('div');\n",
              "          docLink.innerHTML = docLinkHtml;\n",
              "          element.appendChild(docLink);\n",
              "        }\n",
              "      </script>\n",
              "    </div>\n",
              "  </div>\n",
              "  "
            ],
            "text/plain": [
              "                                              review  sentiment\n",
              "0  One of the other reviewers has mentioned that ...          1\n",
              "1  A wonderful little production. <br /><br />The...          1\n",
              "2  I thought this was a wonderful way to spend ti...          1\n",
              "3  Basically there's a family where a little boy ...          0\n",
              "4  Petter Mattei's \"Love in the Time of Money\" is...          1"
            ]
          },
          "metadata": {},
          "execution_count": 7
        }
      ],
      "source": [
        "# Lets convert the sentiment column values to 0(negative) and 1(positive)\n",
        "labelReplace = {\"sentiment\": {\"negative\": 0, \"positive\": 1}}\n",
        "sentimentDF.replace(labelReplace, inplace=True)\n",
        "sentimentDF.head()"
      ]
    },
    {
      "cell_type": "code",
      "execution_count": 8,
      "metadata": {
        "execution": {
          "iopub.execute_input": "2022-02-11T14:53:50.685699Z",
          "iopub.status.busy": "2022-02-11T14:53:50.685444Z",
          "iopub.status.idle": "2022-02-11T14:53:50.709859Z",
          "shell.execute_reply": "2022-02-11T14:53:50.709048Z",
          "shell.execute_reply.started": "2022-02-11T14:53:50.685670Z"
        },
        "id": "9tiJ-SWnkb0P",
        "outputId": "8006d994-f838-4df2-d5cd-f75da4aaf383",
        "colab": {
          "base_uri": "https://localhost:8080/",
          "height": 143
        }
      },
      "outputs": [
        {
          "output_type": "execute_result",
          "data": {
            "text/html": [
              "\n",
              "  <div id=\"df-8e466a0e-afc6-484b-aaa3-f22a3bbb4b0b\">\n",
              "    <div class=\"colab-df-container\">\n",
              "      <div>\n",
              "<style scoped>\n",
              "    .dataframe tbody tr th:only-of-type {\n",
              "        vertical-align: middle;\n",
              "    }\n",
              "\n",
              "    .dataframe tbody tr th {\n",
              "        vertical-align: top;\n",
              "    }\n",
              "\n",
              "    .dataframe thead th {\n",
              "        text-align: right;\n",
              "    }\n",
              "</style>\n",
              "<table border=\"1\" class=\"dataframe\">\n",
              "  <thead>\n",
              "    <tr style=\"text-align: right;\">\n",
              "      <th></th>\n",
              "      <th>review</th>\n",
              "    </tr>\n",
              "    <tr>\n",
              "      <th>sentiment</th>\n",
              "      <th></th>\n",
              "    </tr>\n",
              "  </thead>\n",
              "  <tbody>\n",
              "    <tr>\n",
              "      <th>0</th>\n",
              "      <td>25000</td>\n",
              "    </tr>\n",
              "    <tr>\n",
              "      <th>1</th>\n",
              "      <td>25000</td>\n",
              "    </tr>\n",
              "  </tbody>\n",
              "</table>\n",
              "</div>\n",
              "      <button class=\"colab-df-convert\" onclick=\"convertToInteractive('df-8e466a0e-afc6-484b-aaa3-f22a3bbb4b0b')\"\n",
              "              title=\"Convert this dataframe to an interactive table.\"\n",
              "              style=\"display:none;\">\n",
              "        \n",
              "  <svg xmlns=\"http://www.w3.org/2000/svg\" height=\"24px\"viewBox=\"0 0 24 24\"\n",
              "       width=\"24px\">\n",
              "    <path d=\"M0 0h24v24H0V0z\" fill=\"none\"/>\n",
              "    <path d=\"M18.56 5.44l.94 2.06.94-2.06 2.06-.94-2.06-.94-.94-2.06-.94 2.06-2.06.94zm-11 1L8.5 8.5l.94-2.06 2.06-.94-2.06-.94L8.5 2.5l-.94 2.06-2.06.94zm10 10l.94 2.06.94-2.06 2.06-.94-2.06-.94-.94-2.06-.94 2.06-2.06.94z\"/><path d=\"M17.41 7.96l-1.37-1.37c-.4-.4-.92-.59-1.43-.59-.52 0-1.04.2-1.43.59L10.3 9.45l-7.72 7.72c-.78.78-.78 2.05 0 2.83L4 21.41c.39.39.9.59 1.41.59.51 0 1.02-.2 1.41-.59l7.78-7.78 2.81-2.81c.8-.78.8-2.07 0-2.86zM5.41 20L4 18.59l7.72-7.72 1.47 1.35L5.41 20z\"/>\n",
              "  </svg>\n",
              "      </button>\n",
              "      \n",
              "  <style>\n",
              "    .colab-df-container {\n",
              "      display:flex;\n",
              "      flex-wrap:wrap;\n",
              "      gap: 12px;\n",
              "    }\n",
              "\n",
              "    .colab-df-convert {\n",
              "      background-color: #E8F0FE;\n",
              "      border: none;\n",
              "      border-radius: 50%;\n",
              "      cursor: pointer;\n",
              "      display: none;\n",
              "      fill: #1967D2;\n",
              "      height: 32px;\n",
              "      padding: 0 0 0 0;\n",
              "      width: 32px;\n",
              "    }\n",
              "\n",
              "    .colab-df-convert:hover {\n",
              "      background-color: #E2EBFA;\n",
              "      box-shadow: 0px 1px 2px rgba(60, 64, 67, 0.3), 0px 1px 3px 1px rgba(60, 64, 67, 0.15);\n",
              "      fill: #174EA6;\n",
              "    }\n",
              "\n",
              "    [theme=dark] .colab-df-convert {\n",
              "      background-color: #3B4455;\n",
              "      fill: #D2E3FC;\n",
              "    }\n",
              "\n",
              "    [theme=dark] .colab-df-convert:hover {\n",
              "      background-color: #434B5C;\n",
              "      box-shadow: 0px 1px 3px 1px rgba(0, 0, 0, 0.15);\n",
              "      filter: drop-shadow(0px 1px 2px rgba(0, 0, 0, 0.3));\n",
              "      fill: #FFFFFF;\n",
              "    }\n",
              "  </style>\n",
              "\n",
              "      <script>\n",
              "        const buttonEl =\n",
              "          document.querySelector('#df-8e466a0e-afc6-484b-aaa3-f22a3bbb4b0b button.colab-df-convert');\n",
              "        buttonEl.style.display =\n",
              "          google.colab.kernel.accessAllowed ? 'block' : 'none';\n",
              "\n",
              "        async function convertToInteractive(key) {\n",
              "          const element = document.querySelector('#df-8e466a0e-afc6-484b-aaa3-f22a3bbb4b0b');\n",
              "          const dataTable =\n",
              "            await google.colab.kernel.invokeFunction('convertToInteractive',\n",
              "                                                     [key], {});\n",
              "          if (!dataTable) return;\n",
              "\n",
              "          const docLinkHtml = 'Like what you see? Visit the ' +\n",
              "            '<a target=\"_blank\" href=https://colab.research.google.com/notebooks/data_table.ipynb>data table notebook</a>'\n",
              "            + ' to learn more about interactive tables.';\n",
              "          element.innerHTML = '';\n",
              "          dataTable['output_type'] = 'display_data';\n",
              "          await google.colab.output.renderOutput(dataTable, element);\n",
              "          const docLink = document.createElement('div');\n",
              "          docLink.innerHTML = docLinkHtml;\n",
              "          element.appendChild(docLink);\n",
              "        }\n",
              "      </script>\n",
              "    </div>\n",
              "  </div>\n",
              "  "
            ],
            "text/plain": [
              "           review\n",
              "sentiment        \n",
              "0           25000\n",
              "1           25000"
            ]
          },
          "metadata": {},
          "execution_count": 8
        }
      ],
      "source": [
        "# checking imbalance in label ( Data has no imbalance)\n",
        "sentimentDF.groupby(sentimentDF[\"sentiment\"]).count()"
      ]
    },
    {
      "cell_type": "code",
      "execution_count": 9,
      "metadata": {
        "execution": {
          "iopub.execute_input": "2022-02-11T14:53:51.674470Z",
          "iopub.status.busy": "2022-02-11T14:53:51.673886Z",
          "iopub.status.idle": "2022-02-11T14:53:51.685578Z",
          "shell.execute_reply": "2022-02-11T14:53:51.684646Z",
          "shell.execute_reply.started": "2022-02-11T14:53:51.674401Z"
        },
        "id": "XB-IL9PyESg5",
        "outputId": "b0a65c7e-ab4a-4e03-bc60-361867bb207d",
        "colab": {
          "base_uri": "https://localhost:8080/",
          "height": 143
        }
      },
      "outputs": [
        {
          "output_type": "execute_result",
          "data": {
            "text/html": [
              "\n",
              "  <div id=\"df-9909b9e4-6ab5-4d7f-a1ac-57c32c188939\">\n",
              "    <div class=\"colab-df-container\">\n",
              "      <div>\n",
              "<style scoped>\n",
              "    .dataframe tbody tr th:only-of-type {\n",
              "        vertical-align: middle;\n",
              "    }\n",
              "\n",
              "    .dataframe tbody tr th {\n",
              "        vertical-align: top;\n",
              "    }\n",
              "\n",
              "    .dataframe thead th {\n",
              "        text-align: right;\n",
              "    }\n",
              "</style>\n",
              "<table border=\"1\" class=\"dataframe\">\n",
              "  <thead>\n",
              "    <tr style=\"text-align: right;\">\n",
              "      <th></th>\n",
              "      <th>review</th>\n",
              "    </tr>\n",
              "    <tr>\n",
              "      <th>sentiment</th>\n",
              "      <th></th>\n",
              "    </tr>\n",
              "  </thead>\n",
              "  <tbody>\n",
              "    <tr>\n",
              "      <th>0</th>\n",
              "      <td>1492</td>\n",
              "    </tr>\n",
              "    <tr>\n",
              "      <th>1</th>\n",
              "      <td>1508</td>\n",
              "    </tr>\n",
              "  </tbody>\n",
              "</table>\n",
              "</div>\n",
              "      <button class=\"colab-df-convert\" onclick=\"convertToInteractive('df-9909b9e4-6ab5-4d7f-a1ac-57c32c188939')\"\n",
              "              title=\"Convert this dataframe to an interactive table.\"\n",
              "              style=\"display:none;\">\n",
              "        \n",
              "  <svg xmlns=\"http://www.w3.org/2000/svg\" height=\"24px\"viewBox=\"0 0 24 24\"\n",
              "       width=\"24px\">\n",
              "    <path d=\"M0 0h24v24H0V0z\" fill=\"none\"/>\n",
              "    <path d=\"M18.56 5.44l.94 2.06.94-2.06 2.06-.94-2.06-.94-.94-2.06-.94 2.06-2.06.94zm-11 1L8.5 8.5l.94-2.06 2.06-.94-2.06-.94L8.5 2.5l-.94 2.06-2.06.94zm10 10l.94 2.06.94-2.06 2.06-.94-2.06-.94-.94-2.06-.94 2.06-2.06.94z\"/><path d=\"M17.41 7.96l-1.37-1.37c-.4-.4-.92-.59-1.43-.59-.52 0-1.04.2-1.43.59L10.3 9.45l-7.72 7.72c-.78.78-.78 2.05 0 2.83L4 21.41c.39.39.9.59 1.41.59.51 0 1.02-.2 1.41-.59l7.78-7.78 2.81-2.81c.8-.78.8-2.07 0-2.86zM5.41 20L4 18.59l7.72-7.72 1.47 1.35L5.41 20z\"/>\n",
              "  </svg>\n",
              "      </button>\n",
              "      \n",
              "  <style>\n",
              "    .colab-df-container {\n",
              "      display:flex;\n",
              "      flex-wrap:wrap;\n",
              "      gap: 12px;\n",
              "    }\n",
              "\n",
              "    .colab-df-convert {\n",
              "      background-color: #E8F0FE;\n",
              "      border: none;\n",
              "      border-radius: 50%;\n",
              "      cursor: pointer;\n",
              "      display: none;\n",
              "      fill: #1967D2;\n",
              "      height: 32px;\n",
              "      padding: 0 0 0 0;\n",
              "      width: 32px;\n",
              "    }\n",
              "\n",
              "    .colab-df-convert:hover {\n",
              "      background-color: #E2EBFA;\n",
              "      box-shadow: 0px 1px 2px rgba(60, 64, 67, 0.3), 0px 1px 3px 1px rgba(60, 64, 67, 0.15);\n",
              "      fill: #174EA6;\n",
              "    }\n",
              "\n",
              "    [theme=dark] .colab-df-convert {\n",
              "      background-color: #3B4455;\n",
              "      fill: #D2E3FC;\n",
              "    }\n",
              "\n",
              "    [theme=dark] .colab-df-convert:hover {\n",
              "      background-color: #434B5C;\n",
              "      box-shadow: 0px 1px 3px 1px rgba(0, 0, 0, 0.15);\n",
              "      filter: drop-shadow(0px 1px 2px rgba(0, 0, 0, 0.3));\n",
              "      fill: #FFFFFF;\n",
              "    }\n",
              "  </style>\n",
              "\n",
              "      <script>\n",
              "        const buttonEl =\n",
              "          document.querySelector('#df-9909b9e4-6ab5-4d7f-a1ac-57c32c188939 button.colab-df-convert');\n",
              "        buttonEl.style.display =\n",
              "          google.colab.kernel.accessAllowed ? 'block' : 'none';\n",
              "\n",
              "        async function convertToInteractive(key) {\n",
              "          const element = document.querySelector('#df-9909b9e4-6ab5-4d7f-a1ac-57c32c188939');\n",
              "          const dataTable =\n",
              "            await google.colab.kernel.invokeFunction('convertToInteractive',\n",
              "                                                     [key], {});\n",
              "          if (!dataTable) return;\n",
              "\n",
              "          const docLinkHtml = 'Like what you see? Visit the ' +\n",
              "            '<a target=\"_blank\" href=https://colab.research.google.com/notebooks/data_table.ipynb>data table notebook</a>'\n",
              "            + ' to learn more about interactive tables.';\n",
              "          element.innerHTML = '';\n",
              "          dataTable['output_type'] = 'display_data';\n",
              "          await google.colab.output.renderOutput(dataTable, element);\n",
              "          const docLink = document.createElement('div');\n",
              "          docLink.innerHTML = docLinkHtml;\n",
              "          element.appendChild(docLink);\n",
              "        }\n",
              "      </script>\n",
              "    </div>\n",
              "  </div>\n",
              "  "
            ],
            "text/plain": [
              "           review\n",
              "sentiment        \n",
              "0            1492\n",
              "1            1508"
            ]
          },
          "metadata": {},
          "execution_count": 9
        }
      ],
      "source": [
        "# The runtime is crashing because of the great amount of samples am running/ higher batch size, I will have to use afew samples\n",
        "sentimentDF = sentimentDF.head(3000)\n",
        "\n",
        "# checking to see that there is no imbalance in our sample sizes (sample is not greatly imbalanced)\n",
        "sentimentDF.groupby(sentimentDF[\"sentiment\"]).count()"
      ]
    },
    {
      "cell_type": "markdown",
      "metadata": {
        "id": "3Dw2W2jdkb0Q"
      },
      "source": [
        "#### Get the Length of each line and find the maximum length\n",
        "As different lines are of different length. We need to pad the our sequences using the max length"
      ]
    },
    {
      "cell_type": "code",
      "execution_count": 10,
      "metadata": {
        "execution": {
          "iopub.execute_input": "2022-02-11T14:53:54.130104Z",
          "iopub.status.busy": "2022-02-11T14:53:54.129556Z",
          "iopub.status.idle": "2022-02-11T14:53:54.142826Z",
          "shell.execute_reply": "2022-02-11T14:53:54.141894Z",
          "shell.execute_reply.started": "2022-02-11T14:53:54.130064Z"
        },
        "id": "G7TwXSMBkb0Q",
        "outputId": "0e4a434c-221e-4ead-92c0-589554d5bb8e",
        "colab": {
          "base_uri": "https://localhost:8080/",
          "height": 206
        }
      },
      "outputs": [
        {
          "output_type": "execute_result",
          "data": {
            "text/html": [
              "\n",
              "  <div id=\"df-d7df298a-8d6d-4505-b007-f476674b1129\">\n",
              "    <div class=\"colab-df-container\">\n",
              "      <div>\n",
              "<style scoped>\n",
              "    .dataframe tbody tr th:only-of-type {\n",
              "        vertical-align: middle;\n",
              "    }\n",
              "\n",
              "    .dataframe tbody tr th {\n",
              "        vertical-align: top;\n",
              "    }\n",
              "\n",
              "    .dataframe thead th {\n",
              "        text-align: right;\n",
              "    }\n",
              "</style>\n",
              "<table border=\"1\" class=\"dataframe\">\n",
              "  <thead>\n",
              "    <tr style=\"text-align: right;\">\n",
              "      <th></th>\n",
              "      <th>review</th>\n",
              "      <th>sentiment</th>\n",
              "      <th>length</th>\n",
              "    </tr>\n",
              "  </thead>\n",
              "  <tbody>\n",
              "    <tr>\n",
              "      <th>0</th>\n",
              "      <td>One of the other reviewers has mentioned that ...</td>\n",
              "      <td>1</td>\n",
              "      <td>1761</td>\n",
              "    </tr>\n",
              "    <tr>\n",
              "      <th>1</th>\n",
              "      <td>A wonderful little production. &lt;br /&gt;&lt;br /&gt;The...</td>\n",
              "      <td>1</td>\n",
              "      <td>998</td>\n",
              "    </tr>\n",
              "    <tr>\n",
              "      <th>2</th>\n",
              "      <td>I thought this was a wonderful way to spend ti...</td>\n",
              "      <td>1</td>\n",
              "      <td>926</td>\n",
              "    </tr>\n",
              "    <tr>\n",
              "      <th>3</th>\n",
              "      <td>Basically there's a family where a little boy ...</td>\n",
              "      <td>0</td>\n",
              "      <td>748</td>\n",
              "    </tr>\n",
              "    <tr>\n",
              "      <th>4</th>\n",
              "      <td>Petter Mattei's \"Love in the Time of Money\" is...</td>\n",
              "      <td>1</td>\n",
              "      <td>1317</td>\n",
              "    </tr>\n",
              "  </tbody>\n",
              "</table>\n",
              "</div>\n",
              "      <button class=\"colab-df-convert\" onclick=\"convertToInteractive('df-d7df298a-8d6d-4505-b007-f476674b1129')\"\n",
              "              title=\"Convert this dataframe to an interactive table.\"\n",
              "              style=\"display:none;\">\n",
              "        \n",
              "  <svg xmlns=\"http://www.w3.org/2000/svg\" height=\"24px\"viewBox=\"0 0 24 24\"\n",
              "       width=\"24px\">\n",
              "    <path d=\"M0 0h24v24H0V0z\" fill=\"none\"/>\n",
              "    <path d=\"M18.56 5.44l.94 2.06.94-2.06 2.06-.94-2.06-.94-.94-2.06-.94 2.06-2.06.94zm-11 1L8.5 8.5l.94-2.06 2.06-.94-2.06-.94L8.5 2.5l-.94 2.06-2.06.94zm10 10l.94 2.06.94-2.06 2.06-.94-2.06-.94-.94-2.06-.94 2.06-2.06.94z\"/><path d=\"M17.41 7.96l-1.37-1.37c-.4-.4-.92-.59-1.43-.59-.52 0-1.04.2-1.43.59L10.3 9.45l-7.72 7.72c-.78.78-.78 2.05 0 2.83L4 21.41c.39.39.9.59 1.41.59.51 0 1.02-.2 1.41-.59l7.78-7.78 2.81-2.81c.8-.78.8-2.07 0-2.86zM5.41 20L4 18.59l7.72-7.72 1.47 1.35L5.41 20z\"/>\n",
              "  </svg>\n",
              "      </button>\n",
              "      \n",
              "  <style>\n",
              "    .colab-df-container {\n",
              "      display:flex;\n",
              "      flex-wrap:wrap;\n",
              "      gap: 12px;\n",
              "    }\n",
              "\n",
              "    .colab-df-convert {\n",
              "      background-color: #E8F0FE;\n",
              "      border: none;\n",
              "      border-radius: 50%;\n",
              "      cursor: pointer;\n",
              "      display: none;\n",
              "      fill: #1967D2;\n",
              "      height: 32px;\n",
              "      padding: 0 0 0 0;\n",
              "      width: 32px;\n",
              "    }\n",
              "\n",
              "    .colab-df-convert:hover {\n",
              "      background-color: #E2EBFA;\n",
              "      box-shadow: 0px 1px 2px rgba(60, 64, 67, 0.3), 0px 1px 3px 1px rgba(60, 64, 67, 0.15);\n",
              "      fill: #174EA6;\n",
              "    }\n",
              "\n",
              "    [theme=dark] .colab-df-convert {\n",
              "      background-color: #3B4455;\n",
              "      fill: #D2E3FC;\n",
              "    }\n",
              "\n",
              "    [theme=dark] .colab-df-convert:hover {\n",
              "      background-color: #434B5C;\n",
              "      box-shadow: 0px 1px 3px 1px rgba(0, 0, 0, 0.15);\n",
              "      filter: drop-shadow(0px 1px 2px rgba(0, 0, 0, 0.3));\n",
              "      fill: #FFFFFF;\n",
              "    }\n",
              "  </style>\n",
              "\n",
              "      <script>\n",
              "        const buttonEl =\n",
              "          document.querySelector('#df-d7df298a-8d6d-4505-b007-f476674b1129 button.colab-df-convert');\n",
              "        buttonEl.style.display =\n",
              "          google.colab.kernel.accessAllowed ? 'block' : 'none';\n",
              "\n",
              "        async function convertToInteractive(key) {\n",
              "          const element = document.querySelector('#df-d7df298a-8d6d-4505-b007-f476674b1129');\n",
              "          const dataTable =\n",
              "            await google.colab.kernel.invokeFunction('convertToInteractive',\n",
              "                                                     [key], {});\n",
              "          if (!dataTable) return;\n",
              "\n",
              "          const docLinkHtml = 'Like what you see? Visit the ' +\n",
              "            '<a target=\"_blank\" href=https://colab.research.google.com/notebooks/data_table.ipynb>data table notebook</a>'\n",
              "            + ' to learn more about interactive tables.';\n",
              "          element.innerHTML = '';\n",
              "          dataTable['output_type'] = 'display_data';\n",
              "          await google.colab.output.renderOutput(dataTable, element);\n",
              "          const docLink = document.createElement('div');\n",
              "          docLink.innerHTML = docLinkHtml;\n",
              "          element.appendChild(docLink);\n",
              "        }\n",
              "      </script>\n",
              "    </div>\n",
              "  </div>\n",
              "  "
            ],
            "text/plain": [
              "                                              review  sentiment  length\n",
              "0  One of the other reviewers has mentioned that ...          1    1761\n",
              "1  A wonderful little production. <br /><br />The...          1     998\n",
              "2  I thought this was a wonderful way to spend ti...          1     926\n",
              "3  Basically there's a family where a little boy ...          0     748\n",
              "4  Petter Mattei's \"Love in the Time of Money\" is...          1    1317"
            ]
          },
          "metadata": {},
          "execution_count": 10
        }
      ],
      "source": [
        "# Get the Length of each line\n",
        "sentimentDF['length'] = sentimentDF['review'].apply(lambda x: len(x))\n",
        "sentimentDF.head()"
      ]
    },
    {
      "cell_type": "code",
      "execution_count": 11,
      "metadata": {
        "execution": {
          "iopub.execute_input": "2022-02-11T14:53:55.692896Z",
          "iopub.status.busy": "2022-02-11T14:53:55.692050Z",
          "iopub.status.idle": "2022-02-11T14:53:55.708173Z",
          "shell.execute_reply": "2022-02-11T14:53:55.707512Z",
          "shell.execute_reply.started": "2022-02-11T14:53:55.692844Z"
        },
        "id": "UrlGY93pkb0R",
        "outputId": "7978512c-b12e-406b-bac1-60ad2fead361",
        "colab": {
          "base_uri": "https://localhost:8080/",
          "height": 143
        }
      },
      "outputs": [
        {
          "output_type": "execute_result",
          "data": {
            "text/html": [
              "\n",
              "  <div id=\"df-358dbf5d-40d8-4983-aadd-646da35af6e7\">\n",
              "    <div class=\"colab-df-container\">\n",
              "      <div>\n",
              "<style scoped>\n",
              "    .dataframe tbody tr th:only-of-type {\n",
              "        vertical-align: middle;\n",
              "    }\n",
              "\n",
              "    .dataframe tbody tr th {\n",
              "        vertical-align: top;\n",
              "    }\n",
              "\n",
              "    .dataframe thead th {\n",
              "        text-align: right;\n",
              "    }\n",
              "</style>\n",
              "<table border=\"1\" class=\"dataframe\">\n",
              "  <thead>\n",
              "    <tr style=\"text-align: right;\">\n",
              "      <th></th>\n",
              "      <th>review</th>\n",
              "      <th>sentiment</th>\n",
              "      <th>length</th>\n",
              "    </tr>\n",
              "  </thead>\n",
              "  <tbody>\n",
              "    <tr>\n",
              "      <th>1531</th>\n",
              "      <td>Warning: Does contain spoilers.&lt;br /&gt;&lt;br /&gt;Ope...</td>\n",
              "      <td>1</td>\n",
              "      <td>8180</td>\n",
              "    </tr>\n",
              "    <tr>\n",
              "      <th>556</th>\n",
              "      <td>I thought that ROTJ was clearly the best out o...</td>\n",
              "      <td>1</td>\n",
              "      <td>7134</td>\n",
              "    </tr>\n",
              "    <tr>\n",
              "      <th>310</th>\n",
              "      <td>Some people drift through life, moving from on...</td>\n",
              "      <td>1</td>\n",
              "      <td>5862</td>\n",
              "    </tr>\n",
              "  </tbody>\n",
              "</table>\n",
              "</div>\n",
              "      <button class=\"colab-df-convert\" onclick=\"convertToInteractive('df-358dbf5d-40d8-4983-aadd-646da35af6e7')\"\n",
              "              title=\"Convert this dataframe to an interactive table.\"\n",
              "              style=\"display:none;\">\n",
              "        \n",
              "  <svg xmlns=\"http://www.w3.org/2000/svg\" height=\"24px\"viewBox=\"0 0 24 24\"\n",
              "       width=\"24px\">\n",
              "    <path d=\"M0 0h24v24H0V0z\" fill=\"none\"/>\n",
              "    <path d=\"M18.56 5.44l.94 2.06.94-2.06 2.06-.94-2.06-.94-.94-2.06-.94 2.06-2.06.94zm-11 1L8.5 8.5l.94-2.06 2.06-.94-2.06-.94L8.5 2.5l-.94 2.06-2.06.94zm10 10l.94 2.06.94-2.06 2.06-.94-2.06-.94-.94-2.06-.94 2.06-2.06.94z\"/><path d=\"M17.41 7.96l-1.37-1.37c-.4-.4-.92-.59-1.43-.59-.52 0-1.04.2-1.43.59L10.3 9.45l-7.72 7.72c-.78.78-.78 2.05 0 2.83L4 21.41c.39.39.9.59 1.41.59.51 0 1.02-.2 1.41-.59l7.78-7.78 2.81-2.81c.8-.78.8-2.07 0-2.86zM5.41 20L4 18.59l7.72-7.72 1.47 1.35L5.41 20z\"/>\n",
              "  </svg>\n",
              "      </button>\n",
              "      \n",
              "  <style>\n",
              "    .colab-df-container {\n",
              "      display:flex;\n",
              "      flex-wrap:wrap;\n",
              "      gap: 12px;\n",
              "    }\n",
              "\n",
              "    .colab-df-convert {\n",
              "      background-color: #E8F0FE;\n",
              "      border: none;\n",
              "      border-radius: 50%;\n",
              "      cursor: pointer;\n",
              "      display: none;\n",
              "      fill: #1967D2;\n",
              "      height: 32px;\n",
              "      padding: 0 0 0 0;\n",
              "      width: 32px;\n",
              "    }\n",
              "\n",
              "    .colab-df-convert:hover {\n",
              "      background-color: #E2EBFA;\n",
              "      box-shadow: 0px 1px 2px rgba(60, 64, 67, 0.3), 0px 1px 3px 1px rgba(60, 64, 67, 0.15);\n",
              "      fill: #174EA6;\n",
              "    }\n",
              "\n",
              "    [theme=dark] .colab-df-convert {\n",
              "      background-color: #3B4455;\n",
              "      fill: #D2E3FC;\n",
              "    }\n",
              "\n",
              "    [theme=dark] .colab-df-convert:hover {\n",
              "      background-color: #434B5C;\n",
              "      box-shadow: 0px 1px 3px 1px rgba(0, 0, 0, 0.15);\n",
              "      filter: drop-shadow(0px 1px 2px rgba(0, 0, 0, 0.3));\n",
              "      fill: #FFFFFF;\n",
              "    }\n",
              "  </style>\n",
              "\n",
              "      <script>\n",
              "        const buttonEl =\n",
              "          document.querySelector('#df-358dbf5d-40d8-4983-aadd-646da35af6e7 button.colab-df-convert');\n",
              "        buttonEl.style.display =\n",
              "          google.colab.kernel.accessAllowed ? 'block' : 'none';\n",
              "\n",
              "        async function convertToInteractive(key) {\n",
              "          const element = document.querySelector('#df-358dbf5d-40d8-4983-aadd-646da35af6e7');\n",
              "          const dataTable =\n",
              "            await google.colab.kernel.invokeFunction('convertToInteractive',\n",
              "                                                     [key], {});\n",
              "          if (!dataTable) return;\n",
              "\n",
              "          const docLinkHtml = 'Like what you see? Visit the ' +\n",
              "            '<a target=\"_blank\" href=https://colab.research.google.com/notebooks/data_table.ipynb>data table notebook</a>'\n",
              "            + ' to learn more about interactive tables.';\n",
              "          element.innerHTML = '';\n",
              "          dataTable['output_type'] = 'display_data';\n",
              "          await google.colab.output.renderOutput(dataTable, element);\n",
              "          const docLink = document.createElement('div');\n",
              "          docLink.innerHTML = docLinkHtml;\n",
              "          element.appendChild(docLink);\n",
              "        }\n",
              "      </script>\n",
              "    </div>\n",
              "  </div>\n",
              "  "
            ],
            "text/plain": [
              "                                                 review  sentiment  length\n",
              "1531  Warning: Does contain spoilers.<br /><br />Ope...          1    8180\n",
              "556   I thought that ROTJ was clearly the best out o...          1    7134\n",
              "310   Some people drift through life, moving from on...          1    5862"
            ]
          },
          "metadata": {},
          "execution_count": 11
        }
      ],
      "source": [
        "# lets see 3 maximum length records\n",
        "sentimentDF.nlargest(3, ['length'])"
      ]
    },
    {
      "cell_type": "markdown",
      "metadata": {
        "id": "q7-aX6hFkb0S"
      },
      "source": [
        "#### Set various parameters for preprocessing and the model"
      ]
    },
    {
      "cell_type": "code",
      "execution_count": 12,
      "metadata": {
        "execution": {
          "iopub.execute_input": "2022-02-11T14:54:01.754888Z",
          "iopub.status.busy": "2022-02-11T14:54:01.754611Z",
          "iopub.status.idle": "2022-02-11T14:54:01.759391Z",
          "shell.execute_reply": "2022-02-11T14:54:01.758665Z",
          "shell.execute_reply.started": "2022-02-11T14:54:01.754854Z"
        },
        "id": "SjqtCcSbkb0S"
      },
      "outputs": [],
      "source": [
        "\n",
        "vocab_size = 10000\n",
        "maxlen = 8180  ## This is the length of the longest review\n",
        "embedding_dim = 32\n",
        "epochs = 50\n",
        "batch_size = 100\n",
        "trunc_type='post'\n",
        "oov_tok = \"<OOV>\""
      ]
    },
    {
      "cell_type": "markdown",
      "metadata": {
        "id": "XA-CWUoFkb0S"
      },
      "source": [
        "#### Apply Keras Tokenizer to the 'review' column of dataset"
      ]
    },
    {
      "cell_type": "code",
      "execution_count": 13,
      "metadata": {
        "execution": {
          "iopub.execute_input": "2022-02-11T14:54:04.301982Z",
          "iopub.status.busy": "2022-02-11T14:54:04.301547Z",
          "iopub.status.idle": "2022-02-11T14:54:04.848780Z",
          "shell.execute_reply": "2022-02-11T14:54:04.848050Z",
          "shell.execute_reply.started": "2022-02-11T14:54:04.301944Z"
        },
        "id": "B2-Z85Vskb0T"
      },
      "outputs": [],
      "source": [
        "tokenizer = Tokenizer(num_words=vocab_size, oov_token=oov_tok)\n",
        "tokenizer.fit_on_texts(sentimentDF['review'])"
      ]
    },
    {
      "cell_type": "markdown",
      "metadata": {
        "id": "sTrlYzzAkb0T"
      },
      "source": [
        "#### Defining X and y for the model (i.e. the input sample and label)"
      ]
    },
    {
      "cell_type": "code",
      "execution_count": 14,
      "metadata": {
        "execution": {
          "iopub.execute_input": "2022-02-11T14:54:07.013803Z",
          "iopub.status.busy": "2022-02-11T14:54:07.013547Z",
          "iopub.status.idle": "2022-02-11T14:54:07.524794Z",
          "shell.execute_reply": "2022-02-11T14:54:07.523305Z",
          "shell.execute_reply.started": "2022-02-11T14:54:07.013774Z"
        },
        "id": "EnxPCZVrkb0T",
        "outputId": "9294cf26-01cc-48cc-eb92-245843c44d69",
        "colab": {
          "base_uri": "https://localhost:8080/"
        }
      },
      "outputs": [
        {
          "output_type": "stream",
          "name": "stdout",
          "text": [
            "Number of Samples: 3000\n",
            "[   0    0    0 ...  117 4859  589]\n",
            "Number of Labels:  3000\n",
            "1\n"
          ]
        }
      ],
      "source": [
        "X = tokenizer.texts_to_sequences(sentimentDF['review'])\n",
        "X = pad_sequences(X, maxlen = maxlen, truncating=trunc_type)\n",
        "y = np.asarray(sentimentDF['sentiment'])\n",
        "\n",
        "print(\"Number of Samples:\", len(X))\n",
        "print(X[0])\n",
        "print(\"Number of Labels: \", len(y))\n",
        "print(y[0])\n"
      ]
    },
    {
      "cell_type": "markdown",
      "metadata": {
        "id": "uL5dg5w8jlRu"
      },
      "source": [
        "#### The sample padded sentence"
      ]
    },
    {
      "cell_type": "code",
      "execution_count": 15,
      "metadata": {
        "execution": {
          "iopub.execute_input": "2022-02-11T14:54:12.079309Z",
          "iopub.status.busy": "2022-02-11T14:54:12.078603Z",
          "iopub.status.idle": "2022-02-11T14:54:12.097958Z",
          "shell.execute_reply": "2022-02-11T14:54:12.096108Z",
          "shell.execute_reply.started": "2022-02-11T14:54:12.079267Z"
        },
        "id": "x4w66564jlRu"
      },
      "outputs": [],
      "source": [
        "word_index = tokenizer.word_index\n",
        "\n",
        "\n",
        "reverse_word_index = dict([(value, key) for (key, value) in word_index.items()])\n",
        "\n",
        "def decode_review(text):\n",
        "    return ' '.join([reverse_word_index.get(i, '?') for i in text])\n",
        "\n",
        "# print commented out, so as not to litter our notebook\n",
        "#print(decode_review(X[0]))\n",
        "#print(\"  \")\n",
        "#print(sentimentDF['review'][0])"
      ]
    },
    {
      "cell_type": "markdown",
      "metadata": {
        "id": "32yhO_HVjlRv"
      },
      "source": [
        "# [3] Modeling"
      ]
    },
    {
      "cell_type": "code",
      "execution_count": 16,
      "metadata": {
        "execution": {
          "iopub.execute_input": "2022-02-11T14:54:18.578017Z",
          "iopub.status.busy": "2022-02-11T14:54:18.576050Z",
          "iopub.status.idle": "2022-02-11T14:54:18.613954Z",
          "shell.execute_reply": "2022-02-11T14:54:18.613165Z",
          "shell.execute_reply.started": "2022-02-11T14:54:18.577960Z"
        },
        "id": "LVpeoVK_jlRv"
      },
      "outputs": [],
      "source": [
        "# Split data\n",
        "\n",
        "X_train, X_test, y_train, y_test = train_test_split(X,y, test_size = 0.2, random_state = 123)\n",
        "#print(X_train.shape,y_train.shape)\n",
        "#print(X_test.shape,y_test.shape)"
      ]
    },
    {
      "cell_type": "code",
      "execution_count": 17,
      "metadata": {
        "execution": {
          "iopub.execute_input": "2022-02-11T15:29:22.877222Z",
          "iopub.status.busy": "2022-02-11T15:29:22.876676Z",
          "iopub.status.idle": "2022-02-11T15:29:23.092300Z",
          "shell.execute_reply": "2022-02-11T15:29:23.091251Z",
          "shell.execute_reply.started": "2022-02-11T15:29:22.877184Z"
        },
        "id": "tuqG_-pFSCW-",
        "outputId": "58c931a2-d006-47e0-a185-afbc63f9257d",
        "colab": {
          "base_uri": "https://localhost:8080/"
        }
      },
      "outputs": [
        {
          "output_type": "stream",
          "name": "stdout",
          "text": [
            "Model: \"sequential\"\n",
            "_________________________________________________________________\n",
            " Layer (type)                Output Shape              Param #   \n",
            "=================================================================\n",
            " embedding (Embedding)       (None, 8180, 32)          320000    \n",
            "                                                                 \n",
            " lstm (LSTM)                 (None, 128)               82432     \n",
            "                                                                 \n",
            " flatten (Flatten)           (None, 128)               0         \n",
            "                                                                 \n",
            " dense (Dense)               (None, 1)                 129       \n",
            "                                                                 \n",
            "=================================================================\n",
            "Total params: 402,561\n",
            "Trainable params: 402,561\n",
            "Non-trainable params: 0\n",
            "_________________________________________________________________\n"
          ]
        }
      ],
      "source": [
        "# LSTM model building\n",
        "\n",
        "model1 = tf.keras.Sequential([\n",
        "    tf.keras.layers.Embedding(vocab_size, embedding_dim, input_length=maxlen),\n",
        "    tf.keras.layers.LSTM(128),\n",
        "    tf.keras.layers.Flatten(), \n",
        "    tf.keras.layers.Dense(1, activation='sigmoid')\n",
        "])\n",
        "model1.compile(loss='binary_crossentropy',optimizer='adam',metrics=['accuracy'])\n",
        "\n",
        "# Let's print the model summary:\n",
        "model1.summary()"
      ]
    },
    {
      "cell_type": "code",
      "execution_count": 18,
      "metadata": {
        "execution": {
          "iopub.execute_input": "2022-02-11T14:54:43.716820Z",
          "iopub.status.busy": "2022-02-11T14:54:43.716557Z",
          "iopub.status.idle": "2022-02-11T14:54:43.720649Z",
          "shell.execute_reply": "2022-02-11T14:54:43.719972Z",
          "shell.execute_reply.started": "2022-02-11T14:54:43.716789Z"
        },
        "id": "vzrOqJ5xSCTY"
      },
      "outputs": [],
      "source": [
        "# The following script prints the architecture of our neural network:\n",
        "from tensorflow.keras.utils import plot_model\n",
        "#plot_model(model, to_file='model_plot4a.png', show_shapes=True, show_layer_names=True)"
      ]
    },
    {
      "cell_type": "markdown",
      "metadata": {
        "id": "FiPMEka2jlRw"
      },
      "source": [
        "#### Fit model"
      ]
    },
    {
      "cell_type": "code",
      "execution_count": 19,
      "metadata": {
        "execution": {
          "iopub.execute_input": "2022-02-11T14:54:53.131183Z",
          "iopub.status.busy": "2022-02-11T14:54:53.130602Z",
          "iopub.status.idle": "2022-02-11T15:03:32.384297Z",
          "shell.execute_reply": "2022-02-11T15:03:32.383407Z",
          "shell.execute_reply.started": "2022-02-11T14:54:53.131142Z"
        },
        "id": "Rv531tIxSCQY"
      },
      "outputs": [],
      "source": [
        "# From the figure above, you can see that the output layer only contains 1 dense layer with 2 neurons. Let's now train our model:\n",
        "\n",
        "\n",
        "history1 = model1.fit(X_train, y_train, batch_size=batch_size, epochs=epochs, verbose=0, validation_split=0.2)\n"
      ]
    },
    {
      "cell_type": "markdown",
      "metadata": {
        "id": "v3INVNLyjlRz"
      },
      "source": [
        "#### Model Evaluation"
      ]
    },
    {
      "cell_type": "code",
      "execution_count": 20,
      "metadata": {
        "execution": {
          "iopub.execute_input": "2022-02-11T15:25:10.831463Z",
          "iopub.status.busy": "2022-02-11T15:25:10.831192Z",
          "iopub.status.idle": "2022-02-11T15:25:10.838894Z",
          "shell.execute_reply": "2022-02-11T15:25:10.837884Z",
          "shell.execute_reply.started": "2022-02-11T15:25:10.831434Z"
        },
        "colab": {
          "base_uri": "https://localhost:8080/"
        },
        "id": "hWihAbHDjlRz",
        "outputId": "2152d4d1-9aeb-4ec1-8283-e6f1b0bd29f8"
      },
      "outputs": [
        {
          "output_type": "stream",
          "name": "stdout",
          "text": [
            "Train: 0.958, Test: 0.747\n"
          ]
        }
      ],
      "source": [
        "# Let's now evaluate our model on the test set:\n",
        "\n",
        "\n",
        "_, train_acc1 = model1.evaluate(X_train, y_train, verbose=0)\n",
        "_, test_acc1 = model1.evaluate(X_test, y_test, verbose=0)\n",
        "print('Train: %.3f, Test: %.3f' % (train_acc1, test_acc1))\n"
      ]
    },
    {
      "cell_type": "markdown",
      "metadata": {
        "id": "fjkPrEogjlRz"
      },
      "source": [
        "# TASK 3\n",
        "\n",
        "### 1. Tuning the presented model"
      ]
    },
    {
      "cell_type": "markdown",
      "metadata": {
        "id": "AekkShXpjlRz"
      },
      "source": [
        "#### Early Stopping callback"
      ]
    },
    {
      "cell_type": "code",
      "execution_count": 21,
      "metadata": {
        "execution": {
          "iopub.execute_input": "2022-02-11T15:20:15.321768Z",
          "iopub.status.busy": "2022-02-11T15:20:15.321512Z",
          "iopub.status.idle": "2022-02-11T15:20:15.327508Z",
          "shell.execute_reply": "2022-02-11T15:20:15.326699Z",
          "shell.execute_reply.started": "2022-02-11T15:20:15.321739Z"
        },
        "id": "bN0ebkuMjlR0"
      },
      "outputs": [],
      "source": [
        "#  Adding Early Stoping callback parameter to give the best number of iterations\n",
        "\n",
        "#callbacks = EarlyStopping(monitor='val_loss', mode='min', patience=10, verbose=1)\n",
        "\n",
        "callbacks = EarlyStopping(monitor='val_accuracy', mode='max', min_delta=1, patience=15, verbose=1)\n",
        "\n"
      ]
    },
    {
      "cell_type": "code",
      "execution_count": 22,
      "metadata": {
        "execution": {
          "iopub.execute_input": "2022-02-11T15:29:47.102781Z",
          "iopub.status.busy": "2022-02-11T15:29:47.102039Z",
          "iopub.status.idle": "2022-02-11T15:29:47.335074Z",
          "shell.execute_reply": "2022-02-11T15:29:47.334370Z",
          "shell.execute_reply.started": "2022-02-11T15:29:47.102743Z"
        },
        "id": "h2Ne64VOSCKO",
        "colab": {
          "base_uri": "https://localhost:8080/"
        },
        "outputId": "eeeddd06-3e47-48e1-bf69-fd44a8b8ae7c"
      },
      "outputs": [
        {
          "output_type": "stream",
          "name": "stdout",
          "text": [
            "Model: \"sequential_1\"\n",
            "_________________________________________________________________\n",
            " Layer (type)                Output Shape              Param #   \n",
            "=================================================================\n",
            " embedding_1 (Embedding)     (None, 8180, 32)          320000    \n",
            "                                                                 \n",
            " lstm_1 (LSTM)               (None, 8180, 128)         82432     \n",
            "                                                                 \n",
            " dense_1 (Dense)             (None, 8180, 128)         16512     \n",
            "                                                                 \n",
            " dropout (Dropout)           (None, 8180, 128)         0         \n",
            "                                                                 \n",
            " flatten_1 (Flatten)         (None, 1047040)           0         \n",
            "                                                                 \n",
            " dense_2 (Dense)             (None, 1)                 1047041   \n",
            "                                                                 \n",
            "=================================================================\n",
            "Total params: 1,465,985\n",
            "Trainable params: 1,465,985\n",
            "Non-trainable params: 0\n",
            "_________________________________________________________________\n"
          ]
        }
      ],
      "source": [
        "# Adding dropout will improve the model as it will work againt overfitting\n",
        "\n",
        "\n",
        "model2 = tf.keras.Sequential([\n",
        "    tf.keras.layers.Embedding(vocab_size, embedding_dim, input_length=maxlen),\n",
        "    tf.keras.layers.LSTM(128, return_sequences=True),\n",
        "    tf.keras.layers.Dense(128, activation='relu'),\n",
        "    tf.keras.layers.Dropout(0.5),\n",
        "    tf.keras.layers.Flatten(),\n",
        "    tf.keras.layers.Dense(1, activation='sigmoid')\n",
        "])\n",
        "model2.compile(loss='binary_crossentropy',optimizer='adam',metrics=['accuracy'])\n",
        "model2.summary()"
      ]
    },
    {
      "cell_type": "code",
      "execution_count": 23,
      "metadata": {
        "execution": {
          "iopub.execute_input": "2022-02-11T15:20:17.799662Z",
          "iopub.status.busy": "2022-02-11T15:20:17.798936Z",
          "iopub.status.idle": "2022-02-11T15:23:13.802311Z",
          "shell.execute_reply": "2022-02-11T15:23:13.801515Z",
          "shell.execute_reply.started": "2022-02-11T15:20:17.799611Z"
        },
        "id": "P3j2STcqSCHC",
        "colab": {
          "base_uri": "https://localhost:8080/"
        },
        "outputId": "82625127-08d8-4200-d168-66b077421260"
      },
      "outputs": [
        {
          "output_type": "stream",
          "name": "stdout",
          "text": [
            "Epoch 00016: early stopping\n"
          ]
        }
      ],
      "source": [
        "history2 = model2.fit(X_train, y_train, batch_size=batch_size, epochs=epochs, verbose=0, validation_split=0.2, callbacks=[callbacks])"
      ]
    },
    {
      "cell_type": "code",
      "execution_count": 24,
      "metadata": {
        "execution": {
          "iopub.execute_input": "2022-02-11T15:26:40.568534Z",
          "iopub.status.busy": "2022-02-11T15:26:40.568258Z",
          "iopub.status.idle": "2022-02-11T15:26:53.341914Z",
          "shell.execute_reply": "2022-02-11T15:26:53.341150Z",
          "shell.execute_reply.started": "2022-02-11T15:26:40.568504Z"
        },
        "id": "kXA3kC-WSCFd",
        "colab": {
          "base_uri": "https://localhost:8080/"
        },
        "outputId": "b3ac04af-5601-43fa-821a-02fe28d2b4a9"
      },
      "outputs": [
        {
          "output_type": "stream",
          "name": "stdout",
          "text": [
            "Train: 0.958, Test: 0.820\n"
          ]
        }
      ],
      "source": [
        "# Let's also now evaluate our tuned model on the test set:\n",
        "\n",
        "\n",
        "_, train_acc2 = model2.evaluate(X_train, y_train, verbose=0)\n",
        "_, test_acc2 = model2.evaluate(X_test, y_test, verbose=0)\n",
        "print('Train: %.3f, Test: %.3f' % (train_acc2, test_acc2))\n"
      ]
    },
    {
      "cell_type": "markdown",
      "metadata": {
        "id": "igX4zAELjlR1"
      },
      "source": [
        "### 2. Trying Another RNN Model (Bi-directional LSTM)"
      ]
    },
    {
      "cell_type": "code",
      "execution_count": 25,
      "metadata": {
        "execution": {
          "iopub.execute_input": "2022-02-11T15:30:14.633337Z",
          "iopub.status.busy": "2022-02-11T15:30:14.632686Z",
          "iopub.status.idle": "2022-02-11T15:30:15.062016Z",
          "shell.execute_reply": "2022-02-11T15:30:15.061253Z",
          "shell.execute_reply.started": "2022-02-11T15:30:14.633296Z"
        },
        "id": "hu4HqMipSB9G",
        "colab": {
          "base_uri": "https://localhost:8080/"
        },
        "outputId": "c752717d-ff27-4c73-98c3-7dcb138d783a"
      },
      "outputs": [
        {
          "output_type": "stream",
          "name": "stdout",
          "text": [
            "Model: \"sequential_2\"\n",
            "_________________________________________________________________\n",
            " Layer (type)                Output Shape              Param #   \n",
            "=================================================================\n",
            " embedding_2 (Embedding)     (None, 8180, 32)          320000    \n",
            "                                                                 \n",
            " bidirectional (Bidirectiona  (None, 8180, 256)        164864    \n",
            " l)                                                              \n",
            "                                                                 \n",
            " dense_3 (Dense)             (None, 8180, 128)         32896     \n",
            "                                                                 \n",
            " dropout_1 (Dropout)         (None, 8180, 128)         0         \n",
            "                                                                 \n",
            " flatten_2 (Flatten)         (None, 1047040)           0         \n",
            "                                                                 \n",
            " dense_4 (Dense)             (None, 1)                 1047041   \n",
            "                                                                 \n",
            "=================================================================\n",
            "Total params: 1,564,801\n",
            "Trainable params: 1,564,801\n",
            "Non-trainable params: 0\n",
            "_________________________________________________________________\n"
          ]
        }
      ],
      "source": [
        "# Let see what this model can do without changing anything else but just the LSTM to Bidirectional LSTM\n",
        "\n",
        "model3 = tf.keras.Sequential([\n",
        "    tf.keras.layers.Embedding(vocab_size, embedding_dim, input_length=maxlen),\n",
        "    tf.keras.layers.Bidirectional(LSTM(128, return_sequences=True)),\n",
        "    tf.keras.layers.Dense(128, activation='relu'),\n",
        "    tf.keras.layers.Dropout(0.5),\n",
        "    tf.keras.layers.Flatten(),\n",
        "    tf.keras.layers.Dense(1, activation='sigmoid')\n",
        "])\n",
        "model3.compile(loss='binary_crossentropy',optimizer='adam',metrics=['accuracy'])\n",
        "model3.summary()\n"
      ]
    },
    {
      "cell_type": "code",
      "execution_count": 26,
      "metadata": {
        "execution": {
          "iopub.execute_input": "2022-02-11T15:30:22.378812Z",
          "iopub.status.busy": "2022-02-11T15:30:22.378340Z",
          "iopub.status.idle": "2022-02-11T15:37:25.780341Z",
          "shell.execute_reply": "2022-02-11T15:37:25.779664Z",
          "shell.execute_reply.started": "2022-02-11T15:30:22.378774Z"
        },
        "id": "N43mf-OCSB6D",
        "colab": {
          "base_uri": "https://localhost:8080/"
        },
        "outputId": "35a506cc-1b52-4296-db88-9fb01a550571"
      },
      "outputs": [
        {
          "output_type": "stream",
          "name": "stdout",
          "text": [
            "Epoch 00016: early stopping\n"
          ]
        },
        {
          "output_type": "execute_result",
          "data": {
            "text/plain": [
              "<keras.callbacks.History at 0x7f221570fe10>"
            ]
          },
          "metadata": {},
          "execution_count": 26
        }
      ],
      "source": [
        "model3.fit(X_train, y_train, validation_data=(X_test,y_test), epochs = epochs, batch_size=batch_size, verbose = 0, callbacks=[callbacks])"
      ]
    },
    {
      "cell_type": "code",
      "execution_count": 27,
      "metadata": {
        "execution": {
          "iopub.execute_input": "2022-02-11T15:37:25.782411Z",
          "iopub.status.busy": "2022-02-11T15:37:25.782142Z",
          "iopub.status.idle": "2022-02-11T15:38:12.834345Z",
          "shell.execute_reply": "2022-02-11T15:38:12.833615Z",
          "shell.execute_reply.started": "2022-02-11T15:37:25.782373Z"
        },
        "id": "5fjUw6vNjlR1"
      },
      "outputs": [],
      "source": [
        "\n",
        "_, train_acc3 = model3.evaluate(X_train, y_train, verbose=0)\n",
        "_, test_acc3 = model3.evaluate(X_test, y_test, verbose=0)\n",
        "#print('Train: %.3f, Test: %.3f' % (train_acc3, test_acc3))\n",
        "\n",
        "# save the model to disk\n",
        "filename = 'bestmodel.h5'\n",
        "tf.keras.models.save_model(model3, filename)"
      ]
    },
    {
      "cell_type": "markdown",
      "metadata": {
        "id": "indF00JojlR1"
      },
      "source": [
        "# [4] Results"
      ]
    },
    {
      "cell_type": "code",
      "execution_count": 28,
      "metadata": {
        "execution": {
          "iopub.execute_input": "2022-02-11T15:38:12.835728Z",
          "iopub.status.busy": "2022-02-11T15:38:12.835485Z",
          "iopub.status.idle": "2022-02-11T15:38:12.843023Z",
          "shell.execute_reply": "2022-02-11T15:38:12.842222Z",
          "shell.execute_reply.started": "2022-02-11T15:38:12.835695Z"
        },
        "colab": {
          "base_uri": "https://localhost:8080/"
        },
        "id": "Nqra_bL_jlR2",
        "outputId": "8c2ea860-f355-4414-9dc4-83f680381d29"
      },
      "outputs": [
        {
          "output_type": "stream",
          "name": "stdout",
          "text": [
            "LSTM Model Result\n",
            "Train: 0.958, Test: 0.747\n",
            "\n",
            "Tunned LSTM Model Result\n",
            "Train: 0.958, Test: 0.820\n",
            "\n",
            "Bi-directional LSTM Model Result\n",
            "Train: 1.000, Test: 0.832\n"
          ]
        }
      ],
      "source": [
        "print('LSTM Model Result')\n",
        "print('Train: %.3f, Test: %.3f' % (train_acc1, test_acc1))\n",
        "print('')\n",
        "\n",
        "print('Tunned LSTM Model Result')\n",
        "print('Train: %.3f, Test: %.3f' % (train_acc2, test_acc2))\n",
        "print('')\n",
        "\n",
        "print('Bi-directional LSTM Model Result')\n",
        "print('Train: %.3f, Test: %.3f' % (train_acc3, test_acc3))\n"
      ]
    },
    {
      "cell_type": "markdown",
      "metadata": {
        "id": "H9YZ9LO5owM9"
      },
      "source": [
        "# 5. Conclusions\n",
        "1. For fast training, the dataset was filtered to 3000 samples\n",
        "2. The First model (LSTM) test set accuracy was 74.7 % after 50 epochs\n",
        "3. The tuned model, improved to 82 % after just 16 epochs (an improvement of 7.3 %); due to adding dropout of 0.5 (which removed some complexity from the  model, countering overfitting) and early stopping, which helps to catch the best accuracy epoch\n",
        "4. Using another RNN model (Bi-directional LSTM): The performed got better (at 83.2 %) than the tuned model. This is an improvement of 1.2% .This is because Bi-directional is a better model with forward and backward pass and should be able to predict better.\n",
        "5. The projector diagram (https://github.com/packetech/Arcada/blob/main/projector_image.PNG) shows how easy the Bi-directional LSTM can approximate words to several nearest neighbors."
      ]
    },
    {
      "cell_type": "code",
      "execution_count": null,
      "metadata": {
        "id": "zqNeALBzjlR3"
      },
      "outputs": [],
      "source": [
        ""
      ]
    }
  ],
  "metadata": {
    "kernelspec": {
      "display_name": "Python 3",
      "language": "python",
      "name": "python3"
    },
    "language_info": {
      "codemirror_mode": {
        "name": "ipython",
        "version": 3
      },
      "file_extension": ".py",
      "mimetype": "text/x-python",
      "name": "python",
      "nbconvert_exporter": "python",
      "pygments_lexer": "ipython3",
      "version": "3.7.6"
    },
    "colab": {
      "name": "sentiment-analysis-arcada-v11-ndifreke-okorie.ipynb",
      "provenance": [],
      "collapsed_sections": [],
      "include_colab_link": true
    },
    "accelerator": "GPU"
  },
  "nbformat": 4,
  "nbformat_minor": 0
}
